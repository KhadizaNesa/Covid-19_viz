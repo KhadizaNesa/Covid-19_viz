{
 "cells": [
  {
   "cell_type": "code",
   "execution_count": 10,
   "id": "b1ac16b4",
   "metadata": {},
   "outputs": [
    {
     "data": {
      "text/html": [
       "        <script type=\"text/javascript\">\n",
       "        window.PlotlyConfig = {MathJaxConfig: 'local'};\n",
       "        if (window.MathJax) {MathJax.Hub.Config({SVG: {font: \"STIX-Web\"}});}\n",
       "        if (typeof require !== 'undefined') {\n",
       "        require.undef(\"plotly\");\n",
       "        requirejs.config({\n",
       "            paths: {\n",
       "                'plotly': ['https://cdn.plot.ly/plotly-2.2.0.min']\n",
       "            }\n",
       "        });\n",
       "        require(['plotly'], function(Plotly) {\n",
       "            window._Plotly = Plotly;\n",
       "        });\n",
       "        }\n",
       "        </script>\n",
       "        "
      ]
     },
     "metadata": {},
     "output_type": "display_data"
    }
   ],
   "source": [
    "# Import libraries\n",
    "import numpy as np \n",
    "import pandas as pd \n",
    "import plotly as py\n",
    "import plotly.express as px\n",
    "import plotly.graph_objs as go\n",
    "from plotly.subplots import make_subplots\n",
    "from plotly.offline import download_plotlyjs, init_notebook_mode, plot, iplot\n",
    "init_notebook_mode(connected=True)"
   ]
  },
  {
   "cell_type": "code",
   "execution_count": 2,
   "id": "aeadfea1",
   "metadata": {},
   "outputs": [],
   "source": [
    "# Read CSV file\n",
    "df = pd.read_csv(\"/Users/dibs1/Downloads/owid-covid-data.csv\")"
   ]
  },
  {
   "cell_type": "code",
   "execution_count": 3,
   "id": "5f0cddd8",
   "metadata": {},
   "outputs": [],
   "source": [
    "# Rename columns\n",
    "df = df.rename(columns={'location':'Country'})\n",
    "df = df.rename(columns={'date':'Date'})\n",
    "df = df.rename(columns={'total_cases':'Confirmed_cases'})"
   ]
  },
  {
   "cell_type": "code",
   "execution_count": 4,
   "id": "0c75ebe0",
   "metadata": {},
   "outputs": [],
   "source": [
    "# Manipulate Dataframe\n",
    "df_countries = df.groupby(['Country', 'Date']).sum().reset_index().sort_values('Date', ascending=False)\n",
    "df_countries = df_countries.drop_duplicates(subset = ['Country'])\n",
    "df_countries = df_countries[df_countries['Confirmed_cases']>0]"
   ]
  },
  {
   "cell_type": "code",
   "execution_count": 5,
   "id": "66723421",
   "metadata": {},
   "outputs": [
    {
     "data": {
      "text/html": [
       "<div>\n",
       "<style scoped>\n",
       "    .dataframe tbody tr th:only-of-type {\n",
       "        vertical-align: middle;\n",
       "    }\n",
       "\n",
       "    .dataframe tbody tr th {\n",
       "        vertical-align: top;\n",
       "    }\n",
       "\n",
       "    .dataframe thead th {\n",
       "        text-align: right;\n",
       "    }\n",
       "</style>\n",
       "<table border=\"1\" class=\"dataframe\">\n",
       "  <thead>\n",
       "    <tr style=\"text-align: right;\">\n",
       "      <th></th>\n",
       "      <th>iso_code</th>\n",
       "      <th>continent</th>\n",
       "      <th>Country</th>\n",
       "      <th>Date</th>\n",
       "      <th>Confirmed_cases</th>\n",
       "      <th>new_cases</th>\n",
       "      <th>new_cases_smoothed</th>\n",
       "      <th>total_deaths</th>\n",
       "      <th>new_deaths</th>\n",
       "      <th>new_deaths_smoothed</th>\n",
       "      <th>...</th>\n",
       "      <th>female_smokers</th>\n",
       "      <th>male_smokers</th>\n",
       "      <th>handwashing_facilities</th>\n",
       "      <th>hospital_beds_per_thousand</th>\n",
       "      <th>life_expectancy</th>\n",
       "      <th>human_development_index</th>\n",
       "      <th>excess_mortality_cumulative_absolute</th>\n",
       "      <th>excess_mortality_cumulative</th>\n",
       "      <th>excess_mortality</th>\n",
       "      <th>excess_mortality_cumulative_per_million</th>\n",
       "    </tr>\n",
       "  </thead>\n",
       "  <tbody>\n",
       "    <tr>\n",
       "      <th>0</th>\n",
       "      <td>AFG</td>\n",
       "      <td>Asia</td>\n",
       "      <td>Afghanistan</td>\n",
       "      <td>2020-02-24</td>\n",
       "      <td>5.0</td>\n",
       "      <td>5.0</td>\n",
       "      <td>NaN</td>\n",
       "      <td>NaN</td>\n",
       "      <td>NaN</td>\n",
       "      <td>NaN</td>\n",
       "      <td>...</td>\n",
       "      <td>NaN</td>\n",
       "      <td>NaN</td>\n",
       "      <td>37.746</td>\n",
       "      <td>0.5</td>\n",
       "      <td>64.83</td>\n",
       "      <td>0.511</td>\n",
       "      <td>NaN</td>\n",
       "      <td>NaN</td>\n",
       "      <td>NaN</td>\n",
       "      <td>NaN</td>\n",
       "    </tr>\n",
       "    <tr>\n",
       "      <th>1</th>\n",
       "      <td>AFG</td>\n",
       "      <td>Asia</td>\n",
       "      <td>Afghanistan</td>\n",
       "      <td>2020-02-25</td>\n",
       "      <td>5.0</td>\n",
       "      <td>0.0</td>\n",
       "      <td>NaN</td>\n",
       "      <td>NaN</td>\n",
       "      <td>NaN</td>\n",
       "      <td>NaN</td>\n",
       "      <td>...</td>\n",
       "      <td>NaN</td>\n",
       "      <td>NaN</td>\n",
       "      <td>37.746</td>\n",
       "      <td>0.5</td>\n",
       "      <td>64.83</td>\n",
       "      <td>0.511</td>\n",
       "      <td>NaN</td>\n",
       "      <td>NaN</td>\n",
       "      <td>NaN</td>\n",
       "      <td>NaN</td>\n",
       "    </tr>\n",
       "    <tr>\n",
       "      <th>2</th>\n",
       "      <td>AFG</td>\n",
       "      <td>Asia</td>\n",
       "      <td>Afghanistan</td>\n",
       "      <td>2020-02-26</td>\n",
       "      <td>5.0</td>\n",
       "      <td>0.0</td>\n",
       "      <td>NaN</td>\n",
       "      <td>NaN</td>\n",
       "      <td>NaN</td>\n",
       "      <td>NaN</td>\n",
       "      <td>...</td>\n",
       "      <td>NaN</td>\n",
       "      <td>NaN</td>\n",
       "      <td>37.746</td>\n",
       "      <td>0.5</td>\n",
       "      <td>64.83</td>\n",
       "      <td>0.511</td>\n",
       "      <td>NaN</td>\n",
       "      <td>NaN</td>\n",
       "      <td>NaN</td>\n",
       "      <td>NaN</td>\n",
       "    </tr>\n",
       "    <tr>\n",
       "      <th>3</th>\n",
       "      <td>AFG</td>\n",
       "      <td>Asia</td>\n",
       "      <td>Afghanistan</td>\n",
       "      <td>2020-02-27</td>\n",
       "      <td>5.0</td>\n",
       "      <td>0.0</td>\n",
       "      <td>NaN</td>\n",
       "      <td>NaN</td>\n",
       "      <td>NaN</td>\n",
       "      <td>NaN</td>\n",
       "      <td>...</td>\n",
       "      <td>NaN</td>\n",
       "      <td>NaN</td>\n",
       "      <td>37.746</td>\n",
       "      <td>0.5</td>\n",
       "      <td>64.83</td>\n",
       "      <td>0.511</td>\n",
       "      <td>NaN</td>\n",
       "      <td>NaN</td>\n",
       "      <td>NaN</td>\n",
       "      <td>NaN</td>\n",
       "    </tr>\n",
       "    <tr>\n",
       "      <th>4</th>\n",
       "      <td>AFG</td>\n",
       "      <td>Asia</td>\n",
       "      <td>Afghanistan</td>\n",
       "      <td>2020-02-28</td>\n",
       "      <td>5.0</td>\n",
       "      <td>0.0</td>\n",
       "      <td>NaN</td>\n",
       "      <td>NaN</td>\n",
       "      <td>NaN</td>\n",
       "      <td>NaN</td>\n",
       "      <td>...</td>\n",
       "      <td>NaN</td>\n",
       "      <td>NaN</td>\n",
       "      <td>37.746</td>\n",
       "      <td>0.5</td>\n",
       "      <td>64.83</td>\n",
       "      <td>0.511</td>\n",
       "      <td>NaN</td>\n",
       "      <td>NaN</td>\n",
       "      <td>NaN</td>\n",
       "      <td>NaN</td>\n",
       "    </tr>\n",
       "    <tr>\n",
       "      <th>...</th>\n",
       "      <td>...</td>\n",
       "      <td>...</td>\n",
       "      <td>...</td>\n",
       "      <td>...</td>\n",
       "      <td>...</td>\n",
       "      <td>...</td>\n",
       "      <td>...</td>\n",
       "      <td>...</td>\n",
       "      <td>...</td>\n",
       "      <td>...</td>\n",
       "      <td>...</td>\n",
       "      <td>...</td>\n",
       "      <td>...</td>\n",
       "      <td>...</td>\n",
       "      <td>...</td>\n",
       "      <td>...</td>\n",
       "      <td>...</td>\n",
       "      <td>...</td>\n",
       "      <td>...</td>\n",
       "      <td>...</td>\n",
       "      <td>...</td>\n",
       "    </tr>\n",
       "    <tr>\n",
       "      <th>208793</th>\n",
       "      <td>ZWE</td>\n",
       "      <td>Africa</td>\n",
       "      <td>Zimbabwe</td>\n",
       "      <td>2022-08-10</td>\n",
       "      <td>256492.0</td>\n",
       "      <td>2.0</td>\n",
       "      <td>9.857</td>\n",
       "      <td>5587.0</td>\n",
       "      <td>1.0</td>\n",
       "      <td>1.143</td>\n",
       "      <td>...</td>\n",
       "      <td>1.6</td>\n",
       "      <td>30.7</td>\n",
       "      <td>36.791</td>\n",
       "      <td>1.7</td>\n",
       "      <td>61.49</td>\n",
       "      <td>0.571</td>\n",
       "      <td>NaN</td>\n",
       "      <td>NaN</td>\n",
       "      <td>NaN</td>\n",
       "      <td>NaN</td>\n",
       "    </tr>\n",
       "    <tr>\n",
       "      <th>208794</th>\n",
       "      <td>ZWE</td>\n",
       "      <td>Africa</td>\n",
       "      <td>Zimbabwe</td>\n",
       "      <td>2022-08-11</td>\n",
       "      <td>256513.0</td>\n",
       "      <td>21.0</td>\n",
       "      <td>9.857</td>\n",
       "      <td>5587.0</td>\n",
       "      <td>0.0</td>\n",
       "      <td>0.857</td>\n",
       "      <td>...</td>\n",
       "      <td>1.6</td>\n",
       "      <td>30.7</td>\n",
       "      <td>36.791</td>\n",
       "      <td>1.7</td>\n",
       "      <td>61.49</td>\n",
       "      <td>0.571</td>\n",
       "      <td>NaN</td>\n",
       "      <td>NaN</td>\n",
       "      <td>NaN</td>\n",
       "      <td>NaN</td>\n",
       "    </tr>\n",
       "    <tr>\n",
       "      <th>208795</th>\n",
       "      <td>ZWE</td>\n",
       "      <td>Africa</td>\n",
       "      <td>Zimbabwe</td>\n",
       "      <td>2022-08-12</td>\n",
       "      <td>256522.0</td>\n",
       "      <td>9.0</td>\n",
       "      <td>11.143</td>\n",
       "      <td>5587.0</td>\n",
       "      <td>0.0</td>\n",
       "      <td>0.857</td>\n",
       "      <td>...</td>\n",
       "      <td>1.6</td>\n",
       "      <td>30.7</td>\n",
       "      <td>36.791</td>\n",
       "      <td>1.7</td>\n",
       "      <td>61.49</td>\n",
       "      <td>0.571</td>\n",
       "      <td>NaN</td>\n",
       "      <td>NaN</td>\n",
       "      <td>NaN</td>\n",
       "      <td>NaN</td>\n",
       "    </tr>\n",
       "    <tr>\n",
       "      <th>208796</th>\n",
       "      <td>ZWE</td>\n",
       "      <td>Africa</td>\n",
       "      <td>Zimbabwe</td>\n",
       "      <td>2022-08-13</td>\n",
       "      <td>256522.0</td>\n",
       "      <td>0.0</td>\n",
       "      <td>11.143</td>\n",
       "      <td>5587.0</td>\n",
       "      <td>0.0</td>\n",
       "      <td>0.857</td>\n",
       "      <td>...</td>\n",
       "      <td>1.6</td>\n",
       "      <td>30.7</td>\n",
       "      <td>36.791</td>\n",
       "      <td>1.7</td>\n",
       "      <td>61.49</td>\n",
       "      <td>0.571</td>\n",
       "      <td>NaN</td>\n",
       "      <td>NaN</td>\n",
       "      <td>NaN</td>\n",
       "      <td>NaN</td>\n",
       "    </tr>\n",
       "    <tr>\n",
       "      <th>208797</th>\n",
       "      <td>ZWE</td>\n",
       "      <td>Africa</td>\n",
       "      <td>Zimbabwe</td>\n",
       "      <td>2022-08-14</td>\n",
       "      <td>256539.0</td>\n",
       "      <td>17.0</td>\n",
       "      <td>13.143</td>\n",
       "      <td>5588.0</td>\n",
       "      <td>1.0</td>\n",
       "      <td>0.571</td>\n",
       "      <td>...</td>\n",
       "      <td>1.6</td>\n",
       "      <td>30.7</td>\n",
       "      <td>36.791</td>\n",
       "      <td>1.7</td>\n",
       "      <td>61.49</td>\n",
       "      <td>0.571</td>\n",
       "      <td>NaN</td>\n",
       "      <td>NaN</td>\n",
       "      <td>NaN</td>\n",
       "      <td>NaN</td>\n",
       "    </tr>\n",
       "  </tbody>\n",
       "</table>\n",
       "<p>208798 rows × 67 columns</p>\n",
       "</div>"
      ],
      "text/plain": [
       "       iso_code continent      Country        Date  Confirmed_cases  \\\n",
       "0           AFG      Asia  Afghanistan  2020-02-24              5.0   \n",
       "1           AFG      Asia  Afghanistan  2020-02-25              5.0   \n",
       "2           AFG      Asia  Afghanistan  2020-02-26              5.0   \n",
       "3           AFG      Asia  Afghanistan  2020-02-27              5.0   \n",
       "4           AFG      Asia  Afghanistan  2020-02-28              5.0   \n",
       "...         ...       ...          ...         ...              ...   \n",
       "208793      ZWE    Africa     Zimbabwe  2022-08-10         256492.0   \n",
       "208794      ZWE    Africa     Zimbabwe  2022-08-11         256513.0   \n",
       "208795      ZWE    Africa     Zimbabwe  2022-08-12         256522.0   \n",
       "208796      ZWE    Africa     Zimbabwe  2022-08-13         256522.0   \n",
       "208797      ZWE    Africa     Zimbabwe  2022-08-14         256539.0   \n",
       "\n",
       "        new_cases  new_cases_smoothed  total_deaths  new_deaths  \\\n",
       "0             5.0                 NaN           NaN         NaN   \n",
       "1             0.0                 NaN           NaN         NaN   \n",
       "2             0.0                 NaN           NaN         NaN   \n",
       "3             0.0                 NaN           NaN         NaN   \n",
       "4             0.0                 NaN           NaN         NaN   \n",
       "...           ...                 ...           ...         ...   \n",
       "208793        2.0               9.857        5587.0         1.0   \n",
       "208794       21.0               9.857        5587.0         0.0   \n",
       "208795        9.0              11.143        5587.0         0.0   \n",
       "208796        0.0              11.143        5587.0         0.0   \n",
       "208797       17.0              13.143        5588.0         1.0   \n",
       "\n",
       "        new_deaths_smoothed  ...  female_smokers  male_smokers  \\\n",
       "0                       NaN  ...             NaN           NaN   \n",
       "1                       NaN  ...             NaN           NaN   \n",
       "2                       NaN  ...             NaN           NaN   \n",
       "3                       NaN  ...             NaN           NaN   \n",
       "4                       NaN  ...             NaN           NaN   \n",
       "...                     ...  ...             ...           ...   \n",
       "208793                1.143  ...             1.6          30.7   \n",
       "208794                0.857  ...             1.6          30.7   \n",
       "208795                0.857  ...             1.6          30.7   \n",
       "208796                0.857  ...             1.6          30.7   \n",
       "208797                0.571  ...             1.6          30.7   \n",
       "\n",
       "        handwashing_facilities  hospital_beds_per_thousand  life_expectancy  \\\n",
       "0                       37.746                         0.5            64.83   \n",
       "1                       37.746                         0.5            64.83   \n",
       "2                       37.746                         0.5            64.83   \n",
       "3                       37.746                         0.5            64.83   \n",
       "4                       37.746                         0.5            64.83   \n",
       "...                        ...                         ...              ...   \n",
       "208793                  36.791                         1.7            61.49   \n",
       "208794                  36.791                         1.7            61.49   \n",
       "208795                  36.791                         1.7            61.49   \n",
       "208796                  36.791                         1.7            61.49   \n",
       "208797                  36.791                         1.7            61.49   \n",
       "\n",
       "        human_development_index  excess_mortality_cumulative_absolute  \\\n",
       "0                         0.511                                   NaN   \n",
       "1                         0.511                                   NaN   \n",
       "2                         0.511                                   NaN   \n",
       "3                         0.511                                   NaN   \n",
       "4                         0.511                                   NaN   \n",
       "...                         ...                                   ...   \n",
       "208793                    0.571                                   NaN   \n",
       "208794                    0.571                                   NaN   \n",
       "208795                    0.571                                   NaN   \n",
       "208796                    0.571                                   NaN   \n",
       "208797                    0.571                                   NaN   \n",
       "\n",
       "        excess_mortality_cumulative  excess_mortality  \\\n",
       "0                               NaN               NaN   \n",
       "1                               NaN               NaN   \n",
       "2                               NaN               NaN   \n",
       "3                               NaN               NaN   \n",
       "4                               NaN               NaN   \n",
       "...                             ...               ...   \n",
       "208793                          NaN               NaN   \n",
       "208794                          NaN               NaN   \n",
       "208795                          NaN               NaN   \n",
       "208796                          NaN               NaN   \n",
       "208797                          NaN               NaN   \n",
       "\n",
       "        excess_mortality_cumulative_per_million  \n",
       "0                                           NaN  \n",
       "1                                           NaN  \n",
       "2                                           NaN  \n",
       "3                                           NaN  \n",
       "4                                           NaN  \n",
       "...                                         ...  \n",
       "208793                                      NaN  \n",
       "208794                                      NaN  \n",
       "208795                                      NaN  \n",
       "208796                                      NaN  \n",
       "208797                                      NaN  \n",
       "\n",
       "[208798 rows x 67 columns]"
      ]
     },
     "execution_count": 5,
     "metadata": {},
     "output_type": "execute_result"
    }
   ],
   "source": [
    "df"
   ]
  },
  {
   "cell_type": "code",
   "execution_count": 6,
   "id": "192d1dc3",
   "metadata": {},
   "outputs": [],
   "source": [
    "# Create the Choropleth\n",
    "fig = go.Figure(data=go.Choropleth(\n",
    "    locations = df_countries['Country'],\n",
    "    locationmode = 'country names',\n",
    "    z = df_countries['Confirmed_cases'],\n",
    "    colorscale = [[0.0, \"rgb(255, 242, 3)\"],\n",
    "                [0.1111111111111111, \"rgb(3, 252, 211)\"],\n",
    "                [0.2222222222222222, \"rgb(244,109,67)\"],\n",
    "                [0.3333333333333333, \"rgb(253,174,97)\"],\n",
    "                [0.4444444444444444, \"rgb(254,224,144)\"],\n",
    "                [0.5555555555555556, \"rgb(224,243,248)\"],\n",
    "                [0.6666666666666666, \"rgb(171,217,233)\"],\n",
    "                [0.7777777777777778, \"rgb(116,173,209)\"],\n",
    "                [0.8888888888888888, \"rgb(69,117,180)\"],\n",
    "                [1.0, \"rgb(49,54,149)\"]],\n",
    "    marker_line_color = 'black',\n",
    "    marker_line_width = 0.3,\n",
    "))"
   ]
  },
  {
   "cell_type": "code",
   "execution_count": 7,
   "id": "6681b479",
   "metadata": {},
   "outputs": [
    {
     "data": {
      "application/vnd.plotly.v1+json": {
       "config": {
        "plotlyServerURL": "https://plot.ly"
       },
       "data": [
        {
         "colorscale": [
          [
           0,
           "rgb(255, 242, 3)"
          ],
          [
           0.1111111111111111,
           "rgb(3, 252, 211)"
          ],
          [
           0.2222222222222222,
           "rgb(244,109,67)"
          ],
          [
           0.3333333333333333,
           "rgb(253,174,97)"
          ],
          [
           0.4444444444444444,
           "rgb(254,224,144)"
          ],
          [
           0.5555555555555556,
           "rgb(224,243,248)"
          ],
          [
           0.6666666666666666,
           "rgb(171,217,233)"
          ],
          [
           0.7777777777777778,
           "rgb(116,173,209)"
          ],
          [
           0.8888888888888888,
           "rgb(69,117,180)"
          ],
          [
           1,
           "rgb(49,54,149)"
          ]
         ],
         "locationmode": "country names",
         "locations": [
          "Zimbabwe",
          "Cameroon",
          "Jordan",
          "Kazakhstan",
          "San Marino",
          "Djibouti",
          "Pakistan",
          "Uzbekistan",
          "Kenya",
          "Bahrain",
          "Kosovo",
          "Malaysia",
          "Samoa",
          "Nigeria",
          "Norway",
          "Kuwait",
          "Bahamas",
          "Tanzania",
          "Denmark",
          "Kyrgyzstan",
          "Dominica",
          "Tajikistan",
          "Bangladesh",
          "Sao Tome and Principe",
          "Iraq",
          "Serbia",
          "Ireland",
          "Isle of Man",
          "Taiwan",
          "Ecuador",
          "Senegal",
          "Belarus",
          "Israel",
          "Uruguay",
          "Italy",
          "Saudi Arabia",
          "Cambodia",
          "Dominican Republic",
          "Barbados",
          "Jamaica",
          "Japan",
          "Saint Vincent and the Grenadines",
          "Turks and Caicos Islands",
          "Laos",
          "Saint Helena",
          "Lower middle income",
          "Timor",
          "Curacao",
          "Rwanda",
          "Asia",
          "Cuba",
          "Luxembourg",
          "Macao",
          "Russia",
          "Venezuela",
          "Madagascar",
          "Aruba",
          "Cape Verde",
          "Malawi",
          "Romania",
          "Africa",
          "Togo",
          "Low income",
          "Lithuania",
          "Vanuatu",
          "Australia",
          "Latvia",
          "Democratic Republic of Congo",
          "Saint Pierre and Miquelon",
          "Azerbaijan",
          "Lebanon",
          "Lesotho",
          "Saint Lucia",
          "Thailand",
          "Czechia",
          "Liberia",
          "Austria",
          "Libya",
          "Saint Kitts and Nevis",
          "Liechtenstein",
          "Canada",
          "Cyprus",
          "Vatican",
          "Belgium",
          "Iran",
          "Egypt",
          "South Korea",
          "Botswana",
          "Germany",
          "Ghana",
          "South America",
          "Suriname",
          "Europe",
          "United Kingdom",
          "Bosnia and Herzegovina",
          "Gibraltar",
          "Greece",
          "South Africa",
          "Greenland",
          "Bulgaria",
          "Ethiopia",
          "Bonaire Sint Eustatius and Saba",
          "Grenada",
          "Somalia",
          "European Union",
          "Georgia",
          "Guatemala",
          "Gambia",
          "Falkland Islands",
          "Fiji",
          "Sri Lanka",
          "British Virgin Islands",
          "Sudan",
          "Faeroe Islands",
          "Finland",
          "France",
          "Spain",
          "United Arab Emirates",
          "French Polynesia",
          "Brazil",
          "North Macedonia",
          "Gabon",
          "South Sudan",
          "Brunei",
          "Ukraine",
          "Afghanistan",
          "Bolivia",
          "Zambia",
          "Hong Kong",
          "Eritrea",
          "Hungary",
          "Singapore",
          "Benin",
          "Equatorial Guinea",
          "Iceland",
          "India",
          "Sierra Leone",
          "Belize",
          "North America",
          "Burundi",
          "Indonesia",
          "International",
          "Seychelles",
          "Syria",
          "El Salvador",
          "Upper middle income",
          "Switzerland",
          "Honduras",
          "Sweden",
          "Bermuda",
          "Eswatini",
          "Solomon Islands",
          "Guinea",
          "Estonia",
          "Oman",
          "North Korea",
          "United States",
          "Guinea-Bissau",
          "Bhutan",
          "Oceania",
          "Guyana",
          "Slovenia",
          "Burkina Faso",
          "Uganda",
          "Haiti",
          "Slovakia",
          "High income",
          "Croatia",
          "Kiribati",
          "Colombia",
          "Montenegro",
          "Cook Islands",
          "Turkey",
          "Costa Rica",
          "Central African Republic",
          "Tonga",
          "Vietnam",
          "Mauritius",
          "China",
          "Congo",
          "Yemen",
          "Mali",
          "Angola",
          "Tunisia",
          "Portugal",
          "Panama",
          "Netherlands",
          "Poland",
          "Wallis and Futuna",
          "Chad",
          "Myanmar",
          "Micronesia (country)",
          "Malta",
          "Mauritania",
          "Nepal",
          "Marshall Islands",
          "World",
          "Argentina",
          "Namibia",
          "Papua New Guinea",
          "Montserrat",
          "Algeria",
          "Chile",
          "Peru",
          "Comoros",
          "New Caledonia",
          "Paraguay",
          "New Zealand",
          "Qatar",
          "Anguilla",
          "Philippines",
          "Monaco",
          "Palestine",
          "Cayman Islands",
          "Trinidad and Tobago",
          "Armenia",
          "Albania",
          "Maldives",
          "Mongolia",
          "Mozambique",
          "Cote d'Ivoire",
          "Morocco",
          "Andorra",
          "Moldova",
          "Palau",
          "Mexico",
          "Antigua and Barbuda",
          "Niger",
          "Nicaragua"
         ],
         "marker": {
          "line": {
           "color": "black",
           "width": 0.3
          }
         },
         "type": "choropleth",
         "z": [
          256539,
          120967,
          1720778,
          1466760,
          20130,
          15690,
          1562307,
          243537,
          337950,
          666939,
          266686,
          4735547,
          15405,
          262520,
          1458092,
          656393,
          36905,
          38205,
          3252087,
          204671,
          14852,
          17786,
          2008870,
          6120,
          2451178,
          2206806,
          1650791,
          37794,
          4888840,
          975234,
          87752,
          994037,
          4614404,
          973420,
          21499531,
          811958,
          137236,
          634866,
          97638,
          148048,
          15656681,
          9404,
          6338,
          212356,
          4,
          94172880,
          23074,
          45209,
          132357,
          172392955,
          1109433,
          284931,
          791,
          18607284,
          540222,
          66599,
          42478,
          62253,
          87711,
          3157372,
          12293555,
          38285,
          1890433,
          1200477,
          11746,
          9810496,
          881020,
          92456,
          3131,
          805103,
          1197041,
          34206,
          28341,
          4622088,
          4012244,
          7578,
          4861952,
          505956,
          6492,
          18907,
          4141368,
          571994,
          29,
          4453483,
          7475173,
          515645,
          21418036,
          325824,
          31535340,
          168350,
          62912318,
          80988,
          220576474,
          23509727,
          390650,
          20034,
          4577675,
          4004555,
          11971,
          1226419,
          492753,
          10999,
          18895,
          27020,
          161970539,
          1710749,
          1072590,
          12238,
          1867,
          67925,
          668012,
          7131,
          63128,
          34658,
          1238998,
          34253699,
          13294139,
          1004751,
          76139,
          34148131,
          334562,
          48592,
          17823,
          215283,
          5305063,
          189045,
          1081206,
          331925,
          1417022,
          10136,
          2005399,
          1794069,
          27316,
          16892,
          203518,
          44268381,
          7741,
          67630,
          110306088,
          48002,
          6282774,
          721,
          45692,
          56700,
          190818,
          138725024,
          3994397,
          447365,
          2551996,
          17556,
          73327,
          21544,
          37470,
          593571,
          397231,
          1,
          92927104,
          8452,
          60663,
          11849200,
          70457,
          1103466,
          21128,
          169396,
          32703,
          2580748,
          355514536,
          1200742,
          3430,
          6286392,
          269719,
          6209,
          16295817,
          1057695,
          14803,
          13405,
          11365784,
          248720,
          921382,
          24837,
          11903,
          31245,
          102636,
          1139241,
          5376433,
          960300,
          8373241,
          6119257,
          761,
          7444,
          614389,
          7139,
          113534,
          62708,
          993032,
          1250,
          590331311,
          9633732,
          169253,
          44820,
          1097,
          269141,
          4380148,
          4027614,
          8351,
          72362,
          712907,
          1691261,
          419370,
          3620,
          3831941,
          14277,
          697447,
          29653,
          175098,
          428648,
          321804,
          184591,
          966423,
          229887,
          86151,
          1263453,
          45899,
          551862,
          5308,
          6925668,
          8820,
          9132,
          14872
         ]
        }
       ],
       "layout": {
        "geo": {
         "projection": {
          "type": "equirectangular"
         },
         "showcoastlines": false,
         "showframe": false
        },
        "template": {
         "data": {
          "bar": [
           {
            "error_x": {
             "color": "#2a3f5f"
            },
            "error_y": {
             "color": "#2a3f5f"
            },
            "marker": {
             "line": {
              "color": "#E5ECF6",
              "width": 0.5
             },
             "pattern": {
              "fillmode": "overlay",
              "size": 10,
              "solidity": 0.2
             }
            },
            "type": "bar"
           }
          ],
          "barpolar": [
           {
            "marker": {
             "line": {
              "color": "#E5ECF6",
              "width": 0.5
             },
             "pattern": {
              "fillmode": "overlay",
              "size": 10,
              "solidity": 0.2
             }
            },
            "type": "barpolar"
           }
          ],
          "carpet": [
           {
            "aaxis": {
             "endlinecolor": "#2a3f5f",
             "gridcolor": "white",
             "linecolor": "white",
             "minorgridcolor": "white",
             "startlinecolor": "#2a3f5f"
            },
            "baxis": {
             "endlinecolor": "#2a3f5f",
             "gridcolor": "white",
             "linecolor": "white",
             "minorgridcolor": "white",
             "startlinecolor": "#2a3f5f"
            },
            "type": "carpet"
           }
          ],
          "choropleth": [
           {
            "colorbar": {
             "outlinewidth": 0,
             "ticks": ""
            },
            "type": "choropleth"
           }
          ],
          "contour": [
           {
            "colorbar": {
             "outlinewidth": 0,
             "ticks": ""
            },
            "colorscale": [
             [
              0,
              "#0d0887"
             ],
             [
              0.1111111111111111,
              "#46039f"
             ],
             [
              0.2222222222222222,
              "#7201a8"
             ],
             [
              0.3333333333333333,
              "#9c179e"
             ],
             [
              0.4444444444444444,
              "#bd3786"
             ],
             [
              0.5555555555555556,
              "#d8576b"
             ],
             [
              0.6666666666666666,
              "#ed7953"
             ],
             [
              0.7777777777777778,
              "#fb9f3a"
             ],
             [
              0.8888888888888888,
              "#fdca26"
             ],
             [
              1,
              "#f0f921"
             ]
            ],
            "type": "contour"
           }
          ],
          "contourcarpet": [
           {
            "colorbar": {
             "outlinewidth": 0,
             "ticks": ""
            },
            "type": "contourcarpet"
           }
          ],
          "heatmap": [
           {
            "colorbar": {
             "outlinewidth": 0,
             "ticks": ""
            },
            "colorscale": [
             [
              0,
              "#0d0887"
             ],
             [
              0.1111111111111111,
              "#46039f"
             ],
             [
              0.2222222222222222,
              "#7201a8"
             ],
             [
              0.3333333333333333,
              "#9c179e"
             ],
             [
              0.4444444444444444,
              "#bd3786"
             ],
             [
              0.5555555555555556,
              "#d8576b"
             ],
             [
              0.6666666666666666,
              "#ed7953"
             ],
             [
              0.7777777777777778,
              "#fb9f3a"
             ],
             [
              0.8888888888888888,
              "#fdca26"
             ],
             [
              1,
              "#f0f921"
             ]
            ],
            "type": "heatmap"
           }
          ],
          "heatmapgl": [
           {
            "colorbar": {
             "outlinewidth": 0,
             "ticks": ""
            },
            "colorscale": [
             [
              0,
              "#0d0887"
             ],
             [
              0.1111111111111111,
              "#46039f"
             ],
             [
              0.2222222222222222,
              "#7201a8"
             ],
             [
              0.3333333333333333,
              "#9c179e"
             ],
             [
              0.4444444444444444,
              "#bd3786"
             ],
             [
              0.5555555555555556,
              "#d8576b"
             ],
             [
              0.6666666666666666,
              "#ed7953"
             ],
             [
              0.7777777777777778,
              "#fb9f3a"
             ],
             [
              0.8888888888888888,
              "#fdca26"
             ],
             [
              1,
              "#f0f921"
             ]
            ],
            "type": "heatmapgl"
           }
          ],
          "histogram": [
           {
            "marker": {
             "pattern": {
              "fillmode": "overlay",
              "size": 10,
              "solidity": 0.2
             }
            },
            "type": "histogram"
           }
          ],
          "histogram2d": [
           {
            "colorbar": {
             "outlinewidth": 0,
             "ticks": ""
            },
            "colorscale": [
             [
              0,
              "#0d0887"
             ],
             [
              0.1111111111111111,
              "#46039f"
             ],
             [
              0.2222222222222222,
              "#7201a8"
             ],
             [
              0.3333333333333333,
              "#9c179e"
             ],
             [
              0.4444444444444444,
              "#bd3786"
             ],
             [
              0.5555555555555556,
              "#d8576b"
             ],
             [
              0.6666666666666666,
              "#ed7953"
             ],
             [
              0.7777777777777778,
              "#fb9f3a"
             ],
             [
              0.8888888888888888,
              "#fdca26"
             ],
             [
              1,
              "#f0f921"
             ]
            ],
            "type": "histogram2d"
           }
          ],
          "histogram2dcontour": [
           {
            "colorbar": {
             "outlinewidth": 0,
             "ticks": ""
            },
            "colorscale": [
             [
              0,
              "#0d0887"
             ],
             [
              0.1111111111111111,
              "#46039f"
             ],
             [
              0.2222222222222222,
              "#7201a8"
             ],
             [
              0.3333333333333333,
              "#9c179e"
             ],
             [
              0.4444444444444444,
              "#bd3786"
             ],
             [
              0.5555555555555556,
              "#d8576b"
             ],
             [
              0.6666666666666666,
              "#ed7953"
             ],
             [
              0.7777777777777778,
              "#fb9f3a"
             ],
             [
              0.8888888888888888,
              "#fdca26"
             ],
             [
              1,
              "#f0f921"
             ]
            ],
            "type": "histogram2dcontour"
           }
          ],
          "mesh3d": [
           {
            "colorbar": {
             "outlinewidth": 0,
             "ticks": ""
            },
            "type": "mesh3d"
           }
          ],
          "parcoords": [
           {
            "line": {
             "colorbar": {
              "outlinewidth": 0,
              "ticks": ""
             }
            },
            "type": "parcoords"
           }
          ],
          "pie": [
           {
            "automargin": true,
            "type": "pie"
           }
          ],
          "scatter": [
           {
            "marker": {
             "colorbar": {
              "outlinewidth": 0,
              "ticks": ""
             }
            },
            "type": "scatter"
           }
          ],
          "scatter3d": [
           {
            "line": {
             "colorbar": {
              "outlinewidth": 0,
              "ticks": ""
             }
            },
            "marker": {
             "colorbar": {
              "outlinewidth": 0,
              "ticks": ""
             }
            },
            "type": "scatter3d"
           }
          ],
          "scattercarpet": [
           {
            "marker": {
             "colorbar": {
              "outlinewidth": 0,
              "ticks": ""
             }
            },
            "type": "scattercarpet"
           }
          ],
          "scattergeo": [
           {
            "marker": {
             "colorbar": {
              "outlinewidth": 0,
              "ticks": ""
             }
            },
            "type": "scattergeo"
           }
          ],
          "scattergl": [
           {
            "marker": {
             "colorbar": {
              "outlinewidth": 0,
              "ticks": ""
             }
            },
            "type": "scattergl"
           }
          ],
          "scattermapbox": [
           {
            "marker": {
             "colorbar": {
              "outlinewidth": 0,
              "ticks": ""
             }
            },
            "type": "scattermapbox"
           }
          ],
          "scatterpolar": [
           {
            "marker": {
             "colorbar": {
              "outlinewidth": 0,
              "ticks": ""
             }
            },
            "type": "scatterpolar"
           }
          ],
          "scatterpolargl": [
           {
            "marker": {
             "colorbar": {
              "outlinewidth": 0,
              "ticks": ""
             }
            },
            "type": "scatterpolargl"
           }
          ],
          "scatterternary": [
           {
            "marker": {
             "colorbar": {
              "outlinewidth": 0,
              "ticks": ""
             }
            },
            "type": "scatterternary"
           }
          ],
          "surface": [
           {
            "colorbar": {
             "outlinewidth": 0,
             "ticks": ""
            },
            "colorscale": [
             [
              0,
              "#0d0887"
             ],
             [
              0.1111111111111111,
              "#46039f"
             ],
             [
              0.2222222222222222,
              "#7201a8"
             ],
             [
              0.3333333333333333,
              "#9c179e"
             ],
             [
              0.4444444444444444,
              "#bd3786"
             ],
             [
              0.5555555555555556,
              "#d8576b"
             ],
             [
              0.6666666666666666,
              "#ed7953"
             ],
             [
              0.7777777777777778,
              "#fb9f3a"
             ],
             [
              0.8888888888888888,
              "#fdca26"
             ],
             [
              1,
              "#f0f921"
             ]
            ],
            "type": "surface"
           }
          ],
          "table": [
           {
            "cells": {
             "fill": {
              "color": "#EBF0F8"
             },
             "line": {
              "color": "white"
             }
            },
            "header": {
             "fill": {
              "color": "#C8D4E3"
             },
             "line": {
              "color": "white"
             }
            },
            "type": "table"
           }
          ]
         },
         "layout": {
          "annotationdefaults": {
           "arrowcolor": "#2a3f5f",
           "arrowhead": 0,
           "arrowwidth": 1
          },
          "autotypenumbers": "strict",
          "coloraxis": {
           "colorbar": {
            "outlinewidth": 0,
            "ticks": ""
           }
          },
          "colorscale": {
           "diverging": [
            [
             0,
             "#8e0152"
            ],
            [
             0.1,
             "#c51b7d"
            ],
            [
             0.2,
             "#de77ae"
            ],
            [
             0.3,
             "#f1b6da"
            ],
            [
             0.4,
             "#fde0ef"
            ],
            [
             0.5,
             "#f7f7f7"
            ],
            [
             0.6,
             "#e6f5d0"
            ],
            [
             0.7,
             "#b8e186"
            ],
            [
             0.8,
             "#7fbc41"
            ],
            [
             0.9,
             "#4d9221"
            ],
            [
             1,
             "#276419"
            ]
           ],
           "sequential": [
            [
             0,
             "#0d0887"
            ],
            [
             0.1111111111111111,
             "#46039f"
            ],
            [
             0.2222222222222222,
             "#7201a8"
            ],
            [
             0.3333333333333333,
             "#9c179e"
            ],
            [
             0.4444444444444444,
             "#bd3786"
            ],
            [
             0.5555555555555556,
             "#d8576b"
            ],
            [
             0.6666666666666666,
             "#ed7953"
            ],
            [
             0.7777777777777778,
             "#fb9f3a"
            ],
            [
             0.8888888888888888,
             "#fdca26"
            ],
            [
             1,
             "#f0f921"
            ]
           ],
           "sequentialminus": [
            [
             0,
             "#0d0887"
            ],
            [
             0.1111111111111111,
             "#46039f"
            ],
            [
             0.2222222222222222,
             "#7201a8"
            ],
            [
             0.3333333333333333,
             "#9c179e"
            ],
            [
             0.4444444444444444,
             "#bd3786"
            ],
            [
             0.5555555555555556,
             "#d8576b"
            ],
            [
             0.6666666666666666,
             "#ed7953"
            ],
            [
             0.7777777777777778,
             "#fb9f3a"
            ],
            [
             0.8888888888888888,
             "#fdca26"
            ],
            [
             1,
             "#f0f921"
            ]
           ]
          },
          "colorway": [
           "#636efa",
           "#EF553B",
           "#00cc96",
           "#ab63fa",
           "#FFA15A",
           "#19d3f3",
           "#FF6692",
           "#B6E880",
           "#FF97FF",
           "#FECB52"
          ],
          "font": {
           "color": "#2a3f5f"
          },
          "geo": {
           "bgcolor": "white",
           "lakecolor": "white",
           "landcolor": "#E5ECF6",
           "showlakes": true,
           "showland": true,
           "subunitcolor": "white"
          },
          "hoverlabel": {
           "align": "left"
          },
          "hovermode": "closest",
          "mapbox": {
           "style": "light"
          },
          "paper_bgcolor": "white",
          "plot_bgcolor": "#E5ECF6",
          "polar": {
           "angularaxis": {
            "gridcolor": "white",
            "linecolor": "white",
            "ticks": ""
           },
           "bgcolor": "#E5ECF6",
           "radialaxis": {
            "gridcolor": "white",
            "linecolor": "white",
            "ticks": ""
           }
          },
          "scene": {
           "xaxis": {
            "backgroundcolor": "#E5ECF6",
            "gridcolor": "white",
            "gridwidth": 2,
            "linecolor": "white",
            "showbackground": true,
            "ticks": "",
            "zerolinecolor": "white"
           },
           "yaxis": {
            "backgroundcolor": "#E5ECF6",
            "gridcolor": "white",
            "gridwidth": 2,
            "linecolor": "white",
            "showbackground": true,
            "ticks": "",
            "zerolinecolor": "white"
           },
           "zaxis": {
            "backgroundcolor": "#E5ECF6",
            "gridcolor": "white",
            "gridwidth": 2,
            "linecolor": "white",
            "showbackground": true,
            "ticks": "",
            "zerolinecolor": "white"
           }
          },
          "shapedefaults": {
           "line": {
            "color": "#2a3f5f"
           }
          },
          "ternary": {
           "aaxis": {
            "gridcolor": "white",
            "linecolor": "white",
            "ticks": ""
           },
           "baxis": {
            "gridcolor": "white",
            "linecolor": "white",
            "ticks": ""
           },
           "bgcolor": "#E5ECF6",
           "caxis": {
            "gridcolor": "white",
            "linecolor": "white",
            "ticks": ""
           }
          },
          "title": {
           "x": 0.05
          },
          "xaxis": {
           "automargin": true,
           "gridcolor": "white",
           "linecolor": "white",
           "ticks": "",
           "title": {
            "standoff": 15
           },
           "zerolinecolor": "white",
           "zerolinewidth": 2
          },
          "yaxis": {
           "automargin": true,
           "gridcolor": "white",
           "linecolor": "white",
           "ticks": "",
           "title": {
            "standoff": 15
           },
           "zerolinecolor": "white",
           "zerolinewidth": 2
          }
         }
        },
        "title": {
         "text": "Confirmed Cases as of July 12, 2021",
         "x": 0.5
        }
       }
      },
      "text/html": [
       "<div>                            <div id=\"6c2bd08c-2faf-41f8-92f0-f81a1d4ed32d\" class=\"plotly-graph-div\" style=\"height:525px; width:100%;\"></div>            <script type=\"text/javascript\">                require([\"plotly\"], function(Plotly) {                    window.PLOTLYENV=window.PLOTLYENV || {};                                    if (document.getElementById(\"6c2bd08c-2faf-41f8-92f0-f81a1d4ed32d\")) {                    Plotly.newPlot(                        \"6c2bd08c-2faf-41f8-92f0-f81a1d4ed32d\",                        [{\"colorscale\":[[0.0,\"rgb(255, 242, 3)\"],[0.1111111111111111,\"rgb(3, 252, 211)\"],[0.2222222222222222,\"rgb(244,109,67)\"],[0.3333333333333333,\"rgb(253,174,97)\"],[0.4444444444444444,\"rgb(254,224,144)\"],[0.5555555555555556,\"rgb(224,243,248)\"],[0.6666666666666666,\"rgb(171,217,233)\"],[0.7777777777777778,\"rgb(116,173,209)\"],[0.8888888888888888,\"rgb(69,117,180)\"],[1.0,\"rgb(49,54,149)\"]],\"locationmode\":\"country names\",\"locations\":[\"Zimbabwe\",\"Cameroon\",\"Jordan\",\"Kazakhstan\",\"San Marino\",\"Djibouti\",\"Pakistan\",\"Uzbekistan\",\"Kenya\",\"Bahrain\",\"Kosovo\",\"Malaysia\",\"Samoa\",\"Nigeria\",\"Norway\",\"Kuwait\",\"Bahamas\",\"Tanzania\",\"Denmark\",\"Kyrgyzstan\",\"Dominica\",\"Tajikistan\",\"Bangladesh\",\"Sao Tome and Principe\",\"Iraq\",\"Serbia\",\"Ireland\",\"Isle of Man\",\"Taiwan\",\"Ecuador\",\"Senegal\",\"Belarus\",\"Israel\",\"Uruguay\",\"Italy\",\"Saudi Arabia\",\"Cambodia\",\"Dominican Republic\",\"Barbados\",\"Jamaica\",\"Japan\",\"Saint Vincent and the Grenadines\",\"Turks and Caicos Islands\",\"Laos\",\"Saint Helena\",\"Lower middle income\",\"Timor\",\"Curacao\",\"Rwanda\",\"Asia\",\"Cuba\",\"Luxembourg\",\"Macao\",\"Russia\",\"Venezuela\",\"Madagascar\",\"Aruba\",\"Cape Verde\",\"Malawi\",\"Romania\",\"Africa\",\"Togo\",\"Low income\",\"Lithuania\",\"Vanuatu\",\"Australia\",\"Latvia\",\"Democratic Republic of Congo\",\"Saint Pierre and Miquelon\",\"Azerbaijan\",\"Lebanon\",\"Lesotho\",\"Saint Lucia\",\"Thailand\",\"Czechia\",\"Liberia\",\"Austria\",\"Libya\",\"Saint Kitts and Nevis\",\"Liechtenstein\",\"Canada\",\"Cyprus\",\"Vatican\",\"Belgium\",\"Iran\",\"Egypt\",\"South Korea\",\"Botswana\",\"Germany\",\"Ghana\",\"South America\",\"Suriname\",\"Europe\",\"United Kingdom\",\"Bosnia and Herzegovina\",\"Gibraltar\",\"Greece\",\"South Africa\",\"Greenland\",\"Bulgaria\",\"Ethiopia\",\"Bonaire Sint Eustatius and Saba\",\"Grenada\",\"Somalia\",\"European Union\",\"Georgia\",\"Guatemala\",\"Gambia\",\"Falkland Islands\",\"Fiji\",\"Sri Lanka\",\"British Virgin Islands\",\"Sudan\",\"Faeroe Islands\",\"Finland\",\"France\",\"Spain\",\"United Arab Emirates\",\"French Polynesia\",\"Brazil\",\"North Macedonia\",\"Gabon\",\"South Sudan\",\"Brunei\",\"Ukraine\",\"Afghanistan\",\"Bolivia\",\"Zambia\",\"Hong Kong\",\"Eritrea\",\"Hungary\",\"Singapore\",\"Benin\",\"Equatorial Guinea\",\"Iceland\",\"India\",\"Sierra Leone\",\"Belize\",\"North America\",\"Burundi\",\"Indonesia\",\"International\",\"Seychelles\",\"Syria\",\"El Salvador\",\"Upper middle income\",\"Switzerland\",\"Honduras\",\"Sweden\",\"Bermuda\",\"Eswatini\",\"Solomon Islands\",\"Guinea\",\"Estonia\",\"Oman\",\"North Korea\",\"United States\",\"Guinea-Bissau\",\"Bhutan\",\"Oceania\",\"Guyana\",\"Slovenia\",\"Burkina Faso\",\"Uganda\",\"Haiti\",\"Slovakia\",\"High income\",\"Croatia\",\"Kiribati\",\"Colombia\",\"Montenegro\",\"Cook Islands\",\"Turkey\",\"Costa Rica\",\"Central African Republic\",\"Tonga\",\"Vietnam\",\"Mauritius\",\"China\",\"Congo\",\"Yemen\",\"Mali\",\"Angola\",\"Tunisia\",\"Portugal\",\"Panama\",\"Netherlands\",\"Poland\",\"Wallis and Futuna\",\"Chad\",\"Myanmar\",\"Micronesia (country)\",\"Malta\",\"Mauritania\",\"Nepal\",\"Marshall Islands\",\"World\",\"Argentina\",\"Namibia\",\"Papua New Guinea\",\"Montserrat\",\"Algeria\",\"Chile\",\"Peru\",\"Comoros\",\"New Caledonia\",\"Paraguay\",\"New Zealand\",\"Qatar\",\"Anguilla\",\"Philippines\",\"Monaco\",\"Palestine\",\"Cayman Islands\",\"Trinidad and Tobago\",\"Armenia\",\"Albania\",\"Maldives\",\"Mongolia\",\"Mozambique\",\"Cote d'Ivoire\",\"Morocco\",\"Andorra\",\"Moldova\",\"Palau\",\"Mexico\",\"Antigua and Barbuda\",\"Niger\",\"Nicaragua\"],\"marker\":{\"line\":{\"color\":\"black\",\"width\":0.3}},\"type\":\"choropleth\",\"z\":[256539.0,120967.0,1720778.0,1466760.0,20130.0,15690.0,1562307.0,243537.0,337950.0,666939.0,266686.0,4735547.0,15405.0,262520.0,1458092.0,656393.0,36905.0,38205.0,3252087.0,204671.0,14852.0,17786.0,2008870.0,6120.0,2451178.0,2206806.0,1650791.0,37794.0,4888840.0,975234.0,87752.0,994037.0,4614404.0,973420.0,21499531.0,811958.0,137236.0,634866.0,97638.0,148048.0,15656681.0,9404.0,6338.0,212356.0,4.0,94172880.0,23074.0,45209.0,132357.0,172392955.0,1109433.0,284931.0,791.0,18607284.0,540222.0,66599.0,42478.0,62253.0,87711.0,3157372.0,12293555.0,38285.0,1890433.0,1200477.0,11746.0,9810496.0,881020.0,92456.0,3131.0,805103.0,1197041.0,34206.0,28341.0,4622088.0,4012244.0,7578.0,4861952.0,505956.0,6492.0,18907.0,4141368.0,571994.0,29.0,4453483.0,7475173.0,515645.0,21418036.0,325824.0,31535340.0,168350.0,62912318.0,80988.0,220576474.0,23509727.0,390650.0,20034.0,4577675.0,4004555.0,11971.0,1226419.0,492753.0,10999.0,18895.0,27020.0,161970539.0,1710749.0,1072590.0,12238.0,1867.0,67925.0,668012.0,7131.0,63128.0,34658.0,1238998.0,34253699.0,13294139.0,1004751.0,76139.0,34148131.0,334562.0,48592.0,17823.0,215283.0,5305063.0,189045.0,1081206.0,331925.0,1417022.0,10136.0,2005399.0,1794069.0,27316.0,16892.0,203518.0,44268381.0,7741.0,67630.0,110306088.0,48002.0,6282774.0,721.0,45692.0,56700.0,190818.0,138725024.0,3994397.0,447365.0,2551996.0,17556.0,73327.0,21544.0,37470.0,593571.0,397231.0,1.0,92927104.0,8452.0,60663.0,11849200.0,70457.0,1103466.0,21128.0,169396.0,32703.0,2580748.0,355514536.0,1200742.0,3430.0,6286392.0,269719.0,6209.0,16295817.0,1057695.0,14803.0,13405.0,11365784.0,248720.0,921382.0,24837.0,11903.0,31245.0,102636.0,1139241.0,5376433.0,960300.0,8373241.0,6119257.0,761.0,7444.0,614389.0,7139.0,113534.0,62708.0,993032.0,1250.0,590331311.0,9633732.0,169253.0,44820.0,1097.0,269141.0,4380148.0,4027614.0,8351.0,72362.0,712907.0,1691261.0,419370.0,3620.0,3831941.0,14277.0,697447.0,29653.0,175098.0,428648.0,321804.0,184591.0,966423.0,229887.0,86151.0,1263453.0,45899.0,551862.0,5308.0,6925668.0,8820.0,9132.0,14872.0]}],                        {\"geo\":{\"projection\":{\"type\":\"equirectangular\"},\"showcoastlines\":false,\"showframe\":false},\"template\":{\"data\":{\"bar\":[{\"error_x\":{\"color\":\"#2a3f5f\"},\"error_y\":{\"color\":\"#2a3f5f\"},\"marker\":{\"line\":{\"color\":\"#E5ECF6\",\"width\":0.5},\"pattern\":{\"fillmode\":\"overlay\",\"size\":10,\"solidity\":0.2}},\"type\":\"bar\"}],\"barpolar\":[{\"marker\":{\"line\":{\"color\":\"#E5ECF6\",\"width\":0.5},\"pattern\":{\"fillmode\":\"overlay\",\"size\":10,\"solidity\":0.2}},\"type\":\"barpolar\"}],\"carpet\":[{\"aaxis\":{\"endlinecolor\":\"#2a3f5f\",\"gridcolor\":\"white\",\"linecolor\":\"white\",\"minorgridcolor\":\"white\",\"startlinecolor\":\"#2a3f5f\"},\"baxis\":{\"endlinecolor\":\"#2a3f5f\",\"gridcolor\":\"white\",\"linecolor\":\"white\",\"minorgridcolor\":\"white\",\"startlinecolor\":\"#2a3f5f\"},\"type\":\"carpet\"}],\"choropleth\":[{\"colorbar\":{\"outlinewidth\":0,\"ticks\":\"\"},\"type\":\"choropleth\"}],\"contour\":[{\"colorbar\":{\"outlinewidth\":0,\"ticks\":\"\"},\"colorscale\":[[0.0,\"#0d0887\"],[0.1111111111111111,\"#46039f\"],[0.2222222222222222,\"#7201a8\"],[0.3333333333333333,\"#9c179e\"],[0.4444444444444444,\"#bd3786\"],[0.5555555555555556,\"#d8576b\"],[0.6666666666666666,\"#ed7953\"],[0.7777777777777778,\"#fb9f3a\"],[0.8888888888888888,\"#fdca26\"],[1.0,\"#f0f921\"]],\"type\":\"contour\"}],\"contourcarpet\":[{\"colorbar\":{\"outlinewidth\":0,\"ticks\":\"\"},\"type\":\"contourcarpet\"}],\"heatmap\":[{\"colorbar\":{\"outlinewidth\":0,\"ticks\":\"\"},\"colorscale\":[[0.0,\"#0d0887\"],[0.1111111111111111,\"#46039f\"],[0.2222222222222222,\"#7201a8\"],[0.3333333333333333,\"#9c179e\"],[0.4444444444444444,\"#bd3786\"],[0.5555555555555556,\"#d8576b\"],[0.6666666666666666,\"#ed7953\"],[0.7777777777777778,\"#fb9f3a\"],[0.8888888888888888,\"#fdca26\"],[1.0,\"#f0f921\"]],\"type\":\"heatmap\"}],\"heatmapgl\":[{\"colorbar\":{\"outlinewidth\":0,\"ticks\":\"\"},\"colorscale\":[[0.0,\"#0d0887\"],[0.1111111111111111,\"#46039f\"],[0.2222222222222222,\"#7201a8\"],[0.3333333333333333,\"#9c179e\"],[0.4444444444444444,\"#bd3786\"],[0.5555555555555556,\"#d8576b\"],[0.6666666666666666,\"#ed7953\"],[0.7777777777777778,\"#fb9f3a\"],[0.8888888888888888,\"#fdca26\"],[1.0,\"#f0f921\"]],\"type\":\"heatmapgl\"}],\"histogram\":[{\"marker\":{\"pattern\":{\"fillmode\":\"overlay\",\"size\":10,\"solidity\":0.2}},\"type\":\"histogram\"}],\"histogram2d\":[{\"colorbar\":{\"outlinewidth\":0,\"ticks\":\"\"},\"colorscale\":[[0.0,\"#0d0887\"],[0.1111111111111111,\"#46039f\"],[0.2222222222222222,\"#7201a8\"],[0.3333333333333333,\"#9c179e\"],[0.4444444444444444,\"#bd3786\"],[0.5555555555555556,\"#d8576b\"],[0.6666666666666666,\"#ed7953\"],[0.7777777777777778,\"#fb9f3a\"],[0.8888888888888888,\"#fdca26\"],[1.0,\"#f0f921\"]],\"type\":\"histogram2d\"}],\"histogram2dcontour\":[{\"colorbar\":{\"outlinewidth\":0,\"ticks\":\"\"},\"colorscale\":[[0.0,\"#0d0887\"],[0.1111111111111111,\"#46039f\"],[0.2222222222222222,\"#7201a8\"],[0.3333333333333333,\"#9c179e\"],[0.4444444444444444,\"#bd3786\"],[0.5555555555555556,\"#d8576b\"],[0.6666666666666666,\"#ed7953\"],[0.7777777777777778,\"#fb9f3a\"],[0.8888888888888888,\"#fdca26\"],[1.0,\"#f0f921\"]],\"type\":\"histogram2dcontour\"}],\"mesh3d\":[{\"colorbar\":{\"outlinewidth\":0,\"ticks\":\"\"},\"type\":\"mesh3d\"}],\"parcoords\":[{\"line\":{\"colorbar\":{\"outlinewidth\":0,\"ticks\":\"\"}},\"type\":\"parcoords\"}],\"pie\":[{\"automargin\":true,\"type\":\"pie\"}],\"scatter\":[{\"marker\":{\"colorbar\":{\"outlinewidth\":0,\"ticks\":\"\"}},\"type\":\"scatter\"}],\"scatter3d\":[{\"line\":{\"colorbar\":{\"outlinewidth\":0,\"ticks\":\"\"}},\"marker\":{\"colorbar\":{\"outlinewidth\":0,\"ticks\":\"\"}},\"type\":\"scatter3d\"}],\"scattercarpet\":[{\"marker\":{\"colorbar\":{\"outlinewidth\":0,\"ticks\":\"\"}},\"type\":\"scattercarpet\"}],\"scattergeo\":[{\"marker\":{\"colorbar\":{\"outlinewidth\":0,\"ticks\":\"\"}},\"type\":\"scattergeo\"}],\"scattergl\":[{\"marker\":{\"colorbar\":{\"outlinewidth\":0,\"ticks\":\"\"}},\"type\":\"scattergl\"}],\"scattermapbox\":[{\"marker\":{\"colorbar\":{\"outlinewidth\":0,\"ticks\":\"\"}},\"type\":\"scattermapbox\"}],\"scatterpolar\":[{\"marker\":{\"colorbar\":{\"outlinewidth\":0,\"ticks\":\"\"}},\"type\":\"scatterpolar\"}],\"scatterpolargl\":[{\"marker\":{\"colorbar\":{\"outlinewidth\":0,\"ticks\":\"\"}},\"type\":\"scatterpolargl\"}],\"scatterternary\":[{\"marker\":{\"colorbar\":{\"outlinewidth\":0,\"ticks\":\"\"}},\"type\":\"scatterternary\"}],\"surface\":[{\"colorbar\":{\"outlinewidth\":0,\"ticks\":\"\"},\"colorscale\":[[0.0,\"#0d0887\"],[0.1111111111111111,\"#46039f\"],[0.2222222222222222,\"#7201a8\"],[0.3333333333333333,\"#9c179e\"],[0.4444444444444444,\"#bd3786\"],[0.5555555555555556,\"#d8576b\"],[0.6666666666666666,\"#ed7953\"],[0.7777777777777778,\"#fb9f3a\"],[0.8888888888888888,\"#fdca26\"],[1.0,\"#f0f921\"]],\"type\":\"surface\"}],\"table\":[{\"cells\":{\"fill\":{\"color\":\"#EBF0F8\"},\"line\":{\"color\":\"white\"}},\"header\":{\"fill\":{\"color\":\"#C8D4E3\"},\"line\":{\"color\":\"white\"}},\"type\":\"table\"}]},\"layout\":{\"annotationdefaults\":{\"arrowcolor\":\"#2a3f5f\",\"arrowhead\":0,\"arrowwidth\":1},\"autotypenumbers\":\"strict\",\"coloraxis\":{\"colorbar\":{\"outlinewidth\":0,\"ticks\":\"\"}},\"colorscale\":{\"diverging\":[[0,\"#8e0152\"],[0.1,\"#c51b7d\"],[0.2,\"#de77ae\"],[0.3,\"#f1b6da\"],[0.4,\"#fde0ef\"],[0.5,\"#f7f7f7\"],[0.6,\"#e6f5d0\"],[0.7,\"#b8e186\"],[0.8,\"#7fbc41\"],[0.9,\"#4d9221\"],[1,\"#276419\"]],\"sequential\":[[0.0,\"#0d0887\"],[0.1111111111111111,\"#46039f\"],[0.2222222222222222,\"#7201a8\"],[0.3333333333333333,\"#9c179e\"],[0.4444444444444444,\"#bd3786\"],[0.5555555555555556,\"#d8576b\"],[0.6666666666666666,\"#ed7953\"],[0.7777777777777778,\"#fb9f3a\"],[0.8888888888888888,\"#fdca26\"],[1.0,\"#f0f921\"]],\"sequentialminus\":[[0.0,\"#0d0887\"],[0.1111111111111111,\"#46039f\"],[0.2222222222222222,\"#7201a8\"],[0.3333333333333333,\"#9c179e\"],[0.4444444444444444,\"#bd3786\"],[0.5555555555555556,\"#d8576b\"],[0.6666666666666666,\"#ed7953\"],[0.7777777777777778,\"#fb9f3a\"],[0.8888888888888888,\"#fdca26\"],[1.0,\"#f0f921\"]]},\"colorway\":[\"#636efa\",\"#EF553B\",\"#00cc96\",\"#ab63fa\",\"#FFA15A\",\"#19d3f3\",\"#FF6692\",\"#B6E880\",\"#FF97FF\",\"#FECB52\"],\"font\":{\"color\":\"#2a3f5f\"},\"geo\":{\"bgcolor\":\"white\",\"lakecolor\":\"white\",\"landcolor\":\"#E5ECF6\",\"showlakes\":true,\"showland\":true,\"subunitcolor\":\"white\"},\"hoverlabel\":{\"align\":\"left\"},\"hovermode\":\"closest\",\"mapbox\":{\"style\":\"light\"},\"paper_bgcolor\":\"white\",\"plot_bgcolor\":\"#E5ECF6\",\"polar\":{\"angularaxis\":{\"gridcolor\":\"white\",\"linecolor\":\"white\",\"ticks\":\"\"},\"bgcolor\":\"#E5ECF6\",\"radialaxis\":{\"gridcolor\":\"white\",\"linecolor\":\"white\",\"ticks\":\"\"}},\"scene\":{\"xaxis\":{\"backgroundcolor\":\"#E5ECF6\",\"gridcolor\":\"white\",\"gridwidth\":2,\"linecolor\":\"white\",\"showbackground\":true,\"ticks\":\"\",\"zerolinecolor\":\"white\"},\"yaxis\":{\"backgroundcolor\":\"#E5ECF6\",\"gridcolor\":\"white\",\"gridwidth\":2,\"linecolor\":\"white\",\"showbackground\":true,\"ticks\":\"\",\"zerolinecolor\":\"white\"},\"zaxis\":{\"backgroundcolor\":\"#E5ECF6\",\"gridcolor\":\"white\",\"gridwidth\":2,\"linecolor\":\"white\",\"showbackground\":true,\"ticks\":\"\",\"zerolinecolor\":\"white\"}},\"shapedefaults\":{\"line\":{\"color\":\"#2a3f5f\"}},\"ternary\":{\"aaxis\":{\"gridcolor\":\"white\",\"linecolor\":\"white\",\"ticks\":\"\"},\"baxis\":{\"gridcolor\":\"white\",\"linecolor\":\"white\",\"ticks\":\"\"},\"bgcolor\":\"#E5ECF6\",\"caxis\":{\"gridcolor\":\"white\",\"linecolor\":\"white\",\"ticks\":\"\"}},\"title\":{\"x\":0.05},\"xaxis\":{\"automargin\":true,\"gridcolor\":\"white\",\"linecolor\":\"white\",\"ticks\":\"\",\"title\":{\"standoff\":15},\"zerolinecolor\":\"white\",\"zerolinewidth\":2},\"yaxis\":{\"automargin\":true,\"gridcolor\":\"white\",\"linecolor\":\"white\",\"ticks\":\"\",\"title\":{\"standoff\":15},\"zerolinecolor\":\"white\",\"zerolinewidth\":2}}},\"title\":{\"text\":\"Confirmed Cases as of July 12, 2021\",\"x\":0.5}},                        {\"responsive\": true}                    ).then(function(){\n",
       "                            \n",
       "var gd = document.getElementById('6c2bd08c-2faf-41f8-92f0-f81a1d4ed32d');\n",
       "var x = new MutationObserver(function (mutations, observer) {{\n",
       "        var display = window.getComputedStyle(gd).display;\n",
       "        if (!display || display === 'none') {{\n",
       "            console.log([gd, 'removed!']);\n",
       "            Plotly.purge(gd);\n",
       "            observer.disconnect();\n",
       "        }}\n",
       "}});\n",
       "\n",
       "// Listen for the removal of the full notebook cells\n",
       "var notebookContainer = gd.closest('#notebook-container');\n",
       "if (notebookContainer) {{\n",
       "    x.observe(notebookContainer, {childList: true});\n",
       "}}\n",
       "\n",
       "// Listen for the clearing of the current output cell\n",
       "var outputEl = gd.closest('.output');\n",
       "if (outputEl) {{\n",
       "    x.observe(outputEl, {childList: true});\n",
       "}}\n",
       "\n",
       "                        })                };                });            </script>        </div>"
      ]
     },
     "metadata": {},
     "output_type": "display_data"
    }
   ],
   "source": [
    "fig.update_layout(\n",
    "    title_text = 'Confirmed Cases as of July 12, 2021',\n",
    "    title_x = 0.5,\n",
    "    geo=dict(\n",
    "        showframe = False,\n",
    "        showcoastlines = False,\n",
    "        projection_type = 'equirectangular'\n",
    "    )\n",
    ")"
   ]
  },
  {
   "cell_type": "code",
   "execution_count": 8,
   "id": "b6f9737b",
   "metadata": {},
   "outputs": [
    {
     "data": {
      "text/html": [
       "<div>\n",
       "<style scoped>\n",
       "    .dataframe tbody tr th:only-of-type {\n",
       "        vertical-align: middle;\n",
       "    }\n",
       "\n",
       "    .dataframe tbody tr th {\n",
       "        vertical-align: top;\n",
       "    }\n",
       "\n",
       "    .dataframe thead th {\n",
       "        text-align: right;\n",
       "    }\n",
       "</style>\n",
       "<table border=\"1\" class=\"dataframe\">\n",
       "  <thead>\n",
       "    <tr style=\"text-align: right;\">\n",
       "      <th></th>\n",
       "      <th>Date</th>\n",
       "      <th>Country</th>\n",
       "      <th>Confirmed_cases</th>\n",
       "      <th>new_cases</th>\n",
       "      <th>new_cases_smoothed</th>\n",
       "      <th>total_deaths</th>\n",
       "      <th>new_deaths</th>\n",
       "      <th>new_deaths_smoothed</th>\n",
       "      <th>total_cases_per_million</th>\n",
       "      <th>new_cases_per_million</th>\n",
       "      <th>...</th>\n",
       "      <th>female_smokers</th>\n",
       "      <th>male_smokers</th>\n",
       "      <th>handwashing_facilities</th>\n",
       "      <th>hospital_beds_per_thousand</th>\n",
       "      <th>life_expectancy</th>\n",
       "      <th>human_development_index</th>\n",
       "      <th>excess_mortality_cumulative_absolute</th>\n",
       "      <th>excess_mortality_cumulative</th>\n",
       "      <th>excess_mortality</th>\n",
       "      <th>excess_mortality_cumulative_per_million</th>\n",
       "    </tr>\n",
       "  </thead>\n",
       "  <tbody>\n",
       "    <tr>\n",
       "      <th>0</th>\n",
       "      <td>2020-01-22</td>\n",
       "      <td>Asia</td>\n",
       "      <td>556.0</td>\n",
       "      <td>0.0</td>\n",
       "      <td>0.000</td>\n",
       "      <td>17.0</td>\n",
       "      <td>0.0</td>\n",
       "      <td>0.000</td>\n",
       "      <td>0.118</td>\n",
       "      <td>0.000</td>\n",
       "      <td>...</td>\n",
       "      <td>0.000</td>\n",
       "      <td>0.000</td>\n",
       "      <td>0.000</td>\n",
       "      <td>0.000</td>\n",
       "      <td>0.00</td>\n",
       "      <td>0.000</td>\n",
       "      <td>0.0</td>\n",
       "      <td>0.0</td>\n",
       "      <td>0.0</td>\n",
       "      <td>0.0</td>\n",
       "    </tr>\n",
       "    <tr>\n",
       "      <th>1</th>\n",
       "      <td>2020-01-22</td>\n",
       "      <td>China</td>\n",
       "      <td>547.0</td>\n",
       "      <td>0.0</td>\n",
       "      <td>0.000</td>\n",
       "      <td>17.0</td>\n",
       "      <td>0.0</td>\n",
       "      <td>0.000</td>\n",
       "      <td>0.384</td>\n",
       "      <td>0.000</td>\n",
       "      <td>...</td>\n",
       "      <td>1.900</td>\n",
       "      <td>48.400</td>\n",
       "      <td>0.000</td>\n",
       "      <td>4.340</td>\n",
       "      <td>76.91</td>\n",
       "      <td>0.761</td>\n",
       "      <td>0.0</td>\n",
       "      <td>0.0</td>\n",
       "      <td>0.0</td>\n",
       "      <td>0.0</td>\n",
       "    </tr>\n",
       "    <tr>\n",
       "      <th>2</th>\n",
       "      <td>2020-01-22</td>\n",
       "      <td>High income</td>\n",
       "      <td>6.0</td>\n",
       "      <td>0.0</td>\n",
       "      <td>0.000</td>\n",
       "      <td>0.0</td>\n",
       "      <td>0.0</td>\n",
       "      <td>0.000</td>\n",
       "      <td>0.005</td>\n",
       "      <td>0.000</td>\n",
       "      <td>...</td>\n",
       "      <td>0.000</td>\n",
       "      <td>0.000</td>\n",
       "      <td>0.000</td>\n",
       "      <td>0.000</td>\n",
       "      <td>0.00</td>\n",
       "      <td>0.000</td>\n",
       "      <td>0.0</td>\n",
       "      <td>0.0</td>\n",
       "      <td>0.0</td>\n",
       "      <td>0.0</td>\n",
       "    </tr>\n",
       "    <tr>\n",
       "      <th>3</th>\n",
       "      <td>2020-01-22</td>\n",
       "      <td>Japan</td>\n",
       "      <td>2.0</td>\n",
       "      <td>0.0</td>\n",
       "      <td>0.000</td>\n",
       "      <td>0.0</td>\n",
       "      <td>0.0</td>\n",
       "      <td>0.000</td>\n",
       "      <td>0.016</td>\n",
       "      <td>0.000</td>\n",
       "      <td>...</td>\n",
       "      <td>11.200</td>\n",
       "      <td>33.700</td>\n",
       "      <td>0.000</td>\n",
       "      <td>13.050</td>\n",
       "      <td>84.63</td>\n",
       "      <td>0.919</td>\n",
       "      <td>0.0</td>\n",
       "      <td>0.0</td>\n",
       "      <td>0.0</td>\n",
       "      <td>0.0</td>\n",
       "    </tr>\n",
       "    <tr>\n",
       "      <th>4</th>\n",
       "      <td>2020-01-22</td>\n",
       "      <td>Macao</td>\n",
       "      <td>1.0</td>\n",
       "      <td>0.0</td>\n",
       "      <td>0.000</td>\n",
       "      <td>0.0</td>\n",
       "      <td>0.0</td>\n",
       "      <td>0.000</td>\n",
       "      <td>1.456</td>\n",
       "      <td>0.000</td>\n",
       "      <td>...</td>\n",
       "      <td>0.000</td>\n",
       "      <td>0.000</td>\n",
       "      <td>0.000</td>\n",
       "      <td>0.000</td>\n",
       "      <td>84.24</td>\n",
       "      <td>0.000</td>\n",
       "      <td>0.0</td>\n",
       "      <td>0.0</td>\n",
       "      <td>0.0</td>\n",
       "      <td>0.0</td>\n",
       "    </tr>\n",
       "    <tr>\n",
       "      <th>...</th>\n",
       "      <td>...</td>\n",
       "      <td>...</td>\n",
       "      <td>...</td>\n",
       "      <td>...</td>\n",
       "      <td>...</td>\n",
       "      <td>...</td>\n",
       "      <td>...</td>\n",
       "      <td>...</td>\n",
       "      <td>...</td>\n",
       "      <td>...</td>\n",
       "      <td>...</td>\n",
       "      <td>...</td>\n",
       "      <td>...</td>\n",
       "      <td>...</td>\n",
       "      <td>...</td>\n",
       "      <td>...</td>\n",
       "      <td>...</td>\n",
       "      <td>...</td>\n",
       "      <td>...</td>\n",
       "      <td>...</td>\n",
       "      <td>...</td>\n",
       "    </tr>\n",
       "    <tr>\n",
       "      <th>200298</th>\n",
       "      <td>2022-08-14</td>\n",
       "      <td>Wallis and Futuna</td>\n",
       "      <td>761.0</td>\n",
       "      <td>0.0</td>\n",
       "      <td>0.000</td>\n",
       "      <td>7.0</td>\n",
       "      <td>0.0</td>\n",
       "      <td>0.000</td>\n",
       "      <td>65451.105</td>\n",
       "      <td>0.000</td>\n",
       "      <td>...</td>\n",
       "      <td>0.000</td>\n",
       "      <td>0.000</td>\n",
       "      <td>0.000</td>\n",
       "      <td>0.000</td>\n",
       "      <td>79.94</td>\n",
       "      <td>0.000</td>\n",
       "      <td>0.0</td>\n",
       "      <td>0.0</td>\n",
       "      <td>0.0</td>\n",
       "      <td>0.0</td>\n",
       "    </tr>\n",
       "    <tr>\n",
       "      <th>200299</th>\n",
       "      <td>2022-08-14</td>\n",
       "      <td>World</td>\n",
       "      <td>590331311.0</td>\n",
       "      <td>454922.0</td>\n",
       "      <td>816718.571</td>\n",
       "      <td>6435631.0</td>\n",
       "      <td>877.0</td>\n",
       "      <td>2475.857</td>\n",
       "      <td>74637.664</td>\n",
       "      <td>57.517</td>\n",
       "      <td>...</td>\n",
       "      <td>6.434</td>\n",
       "      <td>34.635</td>\n",
       "      <td>60.130</td>\n",
       "      <td>2.705</td>\n",
       "      <td>72.58</td>\n",
       "      <td>0.737</td>\n",
       "      <td>0.0</td>\n",
       "      <td>0.0</td>\n",
       "      <td>0.0</td>\n",
       "      <td>0.0</td>\n",
       "    </tr>\n",
       "    <tr>\n",
       "      <th>200300</th>\n",
       "      <td>2022-08-14</td>\n",
       "      <td>Yemen</td>\n",
       "      <td>11903.0</td>\n",
       "      <td>0.0</td>\n",
       "      <td>1.143</td>\n",
       "      <td>2152.0</td>\n",
       "      <td>0.0</td>\n",
       "      <td>0.000</td>\n",
       "      <td>360.898</td>\n",
       "      <td>0.000</td>\n",
       "      <td>...</td>\n",
       "      <td>7.600</td>\n",
       "      <td>29.200</td>\n",
       "      <td>49.542</td>\n",
       "      <td>0.700</td>\n",
       "      <td>66.12</td>\n",
       "      <td>0.470</td>\n",
       "      <td>0.0</td>\n",
       "      <td>0.0</td>\n",
       "      <td>0.0</td>\n",
       "      <td>0.0</td>\n",
       "    </tr>\n",
       "    <tr>\n",
       "      <th>200301</th>\n",
       "      <td>2022-08-14</td>\n",
       "      <td>Zambia</td>\n",
       "      <td>331925.0</td>\n",
       "      <td>0.0</td>\n",
       "      <td>0.000</td>\n",
       "      <td>4016.0</td>\n",
       "      <td>0.0</td>\n",
       "      <td>0.000</td>\n",
       "      <td>17045.287</td>\n",
       "      <td>0.000</td>\n",
       "      <td>...</td>\n",
       "      <td>3.100</td>\n",
       "      <td>24.700</td>\n",
       "      <td>13.938</td>\n",
       "      <td>2.000</td>\n",
       "      <td>63.89</td>\n",
       "      <td>0.584</td>\n",
       "      <td>0.0</td>\n",
       "      <td>0.0</td>\n",
       "      <td>0.0</td>\n",
       "      <td>0.0</td>\n",
       "    </tr>\n",
       "    <tr>\n",
       "      <th>200302</th>\n",
       "      <td>2022-08-14</td>\n",
       "      <td>Zimbabwe</td>\n",
       "      <td>256539.0</td>\n",
       "      <td>17.0</td>\n",
       "      <td>13.143</td>\n",
       "      <td>5588.0</td>\n",
       "      <td>1.0</td>\n",
       "      <td>0.571</td>\n",
       "      <td>16040.180</td>\n",
       "      <td>1.063</td>\n",
       "      <td>...</td>\n",
       "      <td>1.600</td>\n",
       "      <td>30.700</td>\n",
       "      <td>36.791</td>\n",
       "      <td>1.700</td>\n",
       "      <td>61.49</td>\n",
       "      <td>0.571</td>\n",
       "      <td>0.0</td>\n",
       "      <td>0.0</td>\n",
       "      <td>0.0</td>\n",
       "      <td>0.0</td>\n",
       "    </tr>\n",
       "  </tbody>\n",
       "</table>\n",
       "<p>200303 rows × 64 columns</p>\n",
       "</div>"
      ],
      "text/plain": [
       "              Date            Country  Confirmed_cases  new_cases  \\\n",
       "0       2020-01-22               Asia            556.0        0.0   \n",
       "1       2020-01-22              China            547.0        0.0   \n",
       "2       2020-01-22        High income              6.0        0.0   \n",
       "3       2020-01-22              Japan              2.0        0.0   \n",
       "4       2020-01-22              Macao              1.0        0.0   \n",
       "...            ...                ...              ...        ...   \n",
       "200298  2022-08-14  Wallis and Futuna            761.0        0.0   \n",
       "200299  2022-08-14              World      590331311.0   454922.0   \n",
       "200300  2022-08-14              Yemen          11903.0        0.0   \n",
       "200301  2022-08-14             Zambia         331925.0        0.0   \n",
       "200302  2022-08-14           Zimbabwe         256539.0       17.0   \n",
       "\n",
       "        new_cases_smoothed  total_deaths  new_deaths  new_deaths_smoothed  \\\n",
       "0                    0.000          17.0         0.0                0.000   \n",
       "1                    0.000          17.0         0.0                0.000   \n",
       "2                    0.000           0.0         0.0                0.000   \n",
       "3                    0.000           0.0         0.0                0.000   \n",
       "4                    0.000           0.0         0.0                0.000   \n",
       "...                    ...           ...         ...                  ...   \n",
       "200298               0.000           7.0         0.0                0.000   \n",
       "200299          816718.571     6435631.0       877.0             2475.857   \n",
       "200300               1.143        2152.0         0.0                0.000   \n",
       "200301               0.000        4016.0         0.0                0.000   \n",
       "200302              13.143        5588.0         1.0                0.571   \n",
       "\n",
       "        total_cases_per_million  new_cases_per_million  ...  female_smokers  \\\n",
       "0                         0.118                  0.000  ...           0.000   \n",
       "1                         0.384                  0.000  ...           1.900   \n",
       "2                         0.005                  0.000  ...           0.000   \n",
       "3                         0.016                  0.000  ...          11.200   \n",
       "4                         1.456                  0.000  ...           0.000   \n",
       "...                         ...                    ...  ...             ...   \n",
       "200298                65451.105                  0.000  ...           0.000   \n",
       "200299                74637.664                 57.517  ...           6.434   \n",
       "200300                  360.898                  0.000  ...           7.600   \n",
       "200301                17045.287                  0.000  ...           3.100   \n",
       "200302                16040.180                  1.063  ...           1.600   \n",
       "\n",
       "        male_smokers  handwashing_facilities  hospital_beds_per_thousand  \\\n",
       "0              0.000                   0.000                       0.000   \n",
       "1             48.400                   0.000                       4.340   \n",
       "2              0.000                   0.000                       0.000   \n",
       "3             33.700                   0.000                      13.050   \n",
       "4              0.000                   0.000                       0.000   \n",
       "...              ...                     ...                         ...   \n",
       "200298         0.000                   0.000                       0.000   \n",
       "200299        34.635                  60.130                       2.705   \n",
       "200300        29.200                  49.542                       0.700   \n",
       "200301        24.700                  13.938                       2.000   \n",
       "200302        30.700                  36.791                       1.700   \n",
       "\n",
       "        life_expectancy  human_development_index  \\\n",
       "0                  0.00                    0.000   \n",
       "1                 76.91                    0.761   \n",
       "2                  0.00                    0.000   \n",
       "3                 84.63                    0.919   \n",
       "4                 84.24                    0.000   \n",
       "...                 ...                      ...   \n",
       "200298            79.94                    0.000   \n",
       "200299            72.58                    0.737   \n",
       "200300            66.12                    0.470   \n",
       "200301            63.89                    0.584   \n",
       "200302            61.49                    0.571   \n",
       "\n",
       "        excess_mortality_cumulative_absolute  excess_mortality_cumulative  \\\n",
       "0                                        0.0                          0.0   \n",
       "1                                        0.0                          0.0   \n",
       "2                                        0.0                          0.0   \n",
       "3                                        0.0                          0.0   \n",
       "4                                        0.0                          0.0   \n",
       "...                                      ...                          ...   \n",
       "200298                                   0.0                          0.0   \n",
       "200299                                   0.0                          0.0   \n",
       "200300                                   0.0                          0.0   \n",
       "200301                                   0.0                          0.0   \n",
       "200302                                   0.0                          0.0   \n",
       "\n",
       "        excess_mortality  excess_mortality_cumulative_per_million  \n",
       "0                    0.0                                      0.0  \n",
       "1                    0.0                                      0.0  \n",
       "2                    0.0                                      0.0  \n",
       "3                    0.0                                      0.0  \n",
       "4                    0.0                                      0.0  \n",
       "...                  ...                                      ...  \n",
       "200298               0.0                                      0.0  \n",
       "200299               0.0                                      0.0  \n",
       "200300               0.0                                      0.0  \n",
       "200301               0.0                                      0.0  \n",
       "200302               0.0                                      0.0  \n",
       "\n",
       "[200303 rows x 64 columns]"
      ]
     },
     "execution_count": 8,
     "metadata": {},
     "output_type": "execute_result"
    }
   ],
   "source": [
    "# Manipulating the original dataframe\n",
    "df_countrydate = df[df['Confirmed_cases']>0]\n",
    "df_countrydate = df_countrydate.groupby(['Date','Country']).sum().reset_index()\n",
    "df_countrydate"
   ]
  },
  {
   "cell_type": "code",
   "execution_count": 12,
   "id": "67592e4a",
   "metadata": {},
   "outputs": [],
   "source": [
    "# Creating the visualization\n",
    "fig = px.choropleth(df_countrydate, \n",
    "                    locations=\"Country\", \n",
    "                    locationmode = \"country names\",\n",
    "                    color=\"Confirmed_cases\", \n",
    "                    hover_name=\"Country\", \n",
    "                    animation_frame=\"Date\"\n",
    "                   )"
   ]
  },
  {
   "cell_type": "code",
   "execution_count": 11,
   "id": "ffb99938",
   "metadata": {},
   "outputs": [
    {
     "data": {
      "application/vnd.plotly.v1+json": {
       "config": {
        "plotlyServerURL": "https://plot.ly"
       },
       "data": [
        {
         "colorscale": [
          [
           0,
           "rgb(255, 242, 3)"
          ],
          [
           0.1111111111111111,
           "rgb(3, 252, 211)"
          ],
          [
           0.2222222222222222,
           "rgb(244,109,67)"
          ],
          [
           0.3333333333333333,
           "rgb(253,174,97)"
          ],
          [
           0.4444444444444444,
           "rgb(254,224,144)"
          ],
          [
           0.5555555555555556,
           "rgb(224,243,248)"
          ],
          [
           0.6666666666666666,
           "rgb(171,217,233)"
          ],
          [
           0.7777777777777778,
           "rgb(116,173,209)"
          ],
          [
           0.8888888888888888,
           "rgb(69,117,180)"
          ],
          [
           1,
           "rgb(49,54,149)"
          ]
         ],
         "locationmode": "country names",
         "locations": [
          "Zimbabwe",
          "Cameroon",
          "Jordan",
          "Kazakhstan",
          "San Marino",
          "Djibouti",
          "Pakistan",
          "Uzbekistan",
          "Kenya",
          "Bahrain",
          "Kosovo",
          "Malaysia",
          "Samoa",
          "Nigeria",
          "Norway",
          "Kuwait",
          "Bahamas",
          "Tanzania",
          "Denmark",
          "Kyrgyzstan",
          "Dominica",
          "Tajikistan",
          "Bangladesh",
          "Sao Tome and Principe",
          "Iraq",
          "Serbia",
          "Ireland",
          "Isle of Man",
          "Taiwan",
          "Ecuador",
          "Senegal",
          "Belarus",
          "Israel",
          "Uruguay",
          "Italy",
          "Saudi Arabia",
          "Cambodia",
          "Dominican Republic",
          "Barbados",
          "Jamaica",
          "Japan",
          "Saint Vincent and the Grenadines",
          "Turks and Caicos Islands",
          "Laos",
          "Saint Helena",
          "Lower middle income",
          "Timor",
          "Curacao",
          "Rwanda",
          "Asia",
          "Cuba",
          "Luxembourg",
          "Macao",
          "Russia",
          "Venezuela",
          "Madagascar",
          "Aruba",
          "Cape Verde",
          "Malawi",
          "Romania",
          "Africa",
          "Togo",
          "Low income",
          "Lithuania",
          "Vanuatu",
          "Australia",
          "Latvia",
          "Democratic Republic of Congo",
          "Saint Pierre and Miquelon",
          "Azerbaijan",
          "Lebanon",
          "Lesotho",
          "Saint Lucia",
          "Thailand",
          "Czechia",
          "Liberia",
          "Austria",
          "Libya",
          "Saint Kitts and Nevis",
          "Liechtenstein",
          "Canada",
          "Cyprus",
          "Vatican",
          "Belgium",
          "Iran",
          "Egypt",
          "South Korea",
          "Botswana",
          "Germany",
          "Ghana",
          "South America",
          "Suriname",
          "Europe",
          "United Kingdom",
          "Bosnia and Herzegovina",
          "Gibraltar",
          "Greece",
          "South Africa",
          "Greenland",
          "Bulgaria",
          "Ethiopia",
          "Bonaire Sint Eustatius and Saba",
          "Grenada",
          "Somalia",
          "European Union",
          "Georgia",
          "Guatemala",
          "Gambia",
          "Falkland Islands",
          "Fiji",
          "Sri Lanka",
          "British Virgin Islands",
          "Sudan",
          "Faeroe Islands",
          "Finland",
          "France",
          "Spain",
          "United Arab Emirates",
          "French Polynesia",
          "Brazil",
          "North Macedonia",
          "Gabon",
          "South Sudan",
          "Brunei",
          "Ukraine",
          "Afghanistan",
          "Bolivia",
          "Zambia",
          "Hong Kong",
          "Eritrea",
          "Hungary",
          "Singapore",
          "Benin",
          "Equatorial Guinea",
          "Iceland",
          "India",
          "Sierra Leone",
          "Belize",
          "North America",
          "Burundi",
          "Indonesia",
          "International",
          "Seychelles",
          "Syria",
          "El Salvador",
          "Upper middle income",
          "Switzerland",
          "Honduras",
          "Sweden",
          "Bermuda",
          "Eswatini",
          "Solomon Islands",
          "Guinea",
          "Estonia",
          "Oman",
          "North Korea",
          "United States",
          "Guinea-Bissau",
          "Bhutan",
          "Oceania",
          "Guyana",
          "Slovenia",
          "Burkina Faso",
          "Uganda",
          "Haiti",
          "Slovakia",
          "High income",
          "Croatia",
          "Kiribati",
          "Colombia",
          "Montenegro",
          "Cook Islands",
          "Turkey",
          "Costa Rica",
          "Central African Republic",
          "Tonga",
          "Vietnam",
          "Mauritius",
          "China",
          "Congo",
          "Yemen",
          "Mali",
          "Angola",
          "Tunisia",
          "Portugal",
          "Panama",
          "Netherlands",
          "Poland",
          "Wallis and Futuna",
          "Chad",
          "Myanmar",
          "Micronesia (country)",
          "Malta",
          "Mauritania",
          "Nepal",
          "Marshall Islands",
          "World",
          "Argentina",
          "Namibia",
          "Papua New Guinea",
          "Montserrat",
          "Algeria",
          "Chile",
          "Peru",
          "Comoros",
          "New Caledonia",
          "Paraguay",
          "New Zealand",
          "Qatar",
          "Anguilla",
          "Philippines",
          "Monaco",
          "Palestine",
          "Cayman Islands",
          "Trinidad and Tobago",
          "Armenia",
          "Albania",
          "Maldives",
          "Mongolia",
          "Mozambique",
          "Cote d'Ivoire",
          "Morocco",
          "Andorra",
          "Moldova",
          "Palau",
          "Mexico",
          "Antigua and Barbuda",
          "Niger",
          "Nicaragua"
         ],
         "marker": {
          "line": {
           "color": "black",
           "width": 0.3
          }
         },
         "type": "choropleth",
         "z": [
          256539,
          120967,
          1720778,
          1466760,
          20130,
          15690,
          1562307,
          243537,
          337950,
          666939,
          266686,
          4735547,
          15405,
          262520,
          1458092,
          656393,
          36905,
          38205,
          3252087,
          204671,
          14852,
          17786,
          2008870,
          6120,
          2451178,
          2206806,
          1650791,
          37794,
          4888840,
          975234,
          87752,
          994037,
          4614404,
          973420,
          21499531,
          811958,
          137236,
          634866,
          97638,
          148048,
          15656681,
          9404,
          6338,
          212356,
          4,
          94172880,
          23074,
          45209,
          132357,
          172392955,
          1109433,
          284931,
          791,
          18607284,
          540222,
          66599,
          42478,
          62253,
          87711,
          3157372,
          12293555,
          38285,
          1890433,
          1200477,
          11746,
          9810496,
          881020,
          92456,
          3131,
          805103,
          1197041,
          34206,
          28341,
          4622088,
          4012244,
          7578,
          4861952,
          505956,
          6492,
          18907,
          4141368,
          571994,
          29,
          4453483,
          7475173,
          515645,
          21418036,
          325824,
          31535340,
          168350,
          62912318,
          80988,
          220576474,
          23509727,
          390650,
          20034,
          4577675,
          4004555,
          11971,
          1226419,
          492753,
          10999,
          18895,
          27020,
          161970539,
          1710749,
          1072590,
          12238,
          1867,
          67925,
          668012,
          7131,
          63128,
          34658,
          1238998,
          34253699,
          13294139,
          1004751,
          76139,
          34148131,
          334562,
          48592,
          17823,
          215283,
          5305063,
          189045,
          1081206,
          331925,
          1417022,
          10136,
          2005399,
          1794069,
          27316,
          16892,
          203518,
          44268381,
          7741,
          67630,
          110306088,
          48002,
          6282774,
          721,
          45692,
          56700,
          190818,
          138725024,
          3994397,
          447365,
          2551996,
          17556,
          73327,
          21544,
          37470,
          593571,
          397231,
          1,
          92927104,
          8452,
          60663,
          11849200,
          70457,
          1103466,
          21128,
          169396,
          32703,
          2580748,
          355514536,
          1200742,
          3430,
          6286392,
          269719,
          6209,
          16295817,
          1057695,
          14803,
          13405,
          11365784,
          248720,
          921382,
          24837,
          11903,
          31245,
          102636,
          1139241,
          5376433,
          960300,
          8373241,
          6119257,
          761,
          7444,
          614389,
          7139,
          113534,
          62708,
          993032,
          1250,
          590331311,
          9633732,
          169253,
          44820,
          1097,
          269141,
          4380148,
          4027614,
          8351,
          72362,
          712907,
          1691261,
          419370,
          3620,
          3831941,
          14277,
          697447,
          29653,
          175098,
          428648,
          321804,
          184591,
          966423,
          229887,
          86151,
          1263453,
          45899,
          551862,
          5308,
          6925668,
          8820,
          9132,
          14872
         ]
        }
       ],
       "layout": {
        "geo": {
         "projection": {
          "type": "equirectangular"
         },
         "showcoastlines": false,
         "showframe": false
        },
        "template": {
         "data": {
          "bar": [
           {
            "error_x": {
             "color": "#2a3f5f"
            },
            "error_y": {
             "color": "#2a3f5f"
            },
            "marker": {
             "line": {
              "color": "#E5ECF6",
              "width": 0.5
             },
             "pattern": {
              "fillmode": "overlay",
              "size": 10,
              "solidity": 0.2
             }
            },
            "type": "bar"
           }
          ],
          "barpolar": [
           {
            "marker": {
             "line": {
              "color": "#E5ECF6",
              "width": 0.5
             },
             "pattern": {
              "fillmode": "overlay",
              "size": 10,
              "solidity": 0.2
             }
            },
            "type": "barpolar"
           }
          ],
          "carpet": [
           {
            "aaxis": {
             "endlinecolor": "#2a3f5f",
             "gridcolor": "white",
             "linecolor": "white",
             "minorgridcolor": "white",
             "startlinecolor": "#2a3f5f"
            },
            "baxis": {
             "endlinecolor": "#2a3f5f",
             "gridcolor": "white",
             "linecolor": "white",
             "minorgridcolor": "white",
             "startlinecolor": "#2a3f5f"
            },
            "type": "carpet"
           }
          ],
          "choropleth": [
           {
            "colorbar": {
             "outlinewidth": 0,
             "ticks": ""
            },
            "type": "choropleth"
           }
          ],
          "contour": [
           {
            "colorbar": {
             "outlinewidth": 0,
             "ticks": ""
            },
            "colorscale": [
             [
              0,
              "#0d0887"
             ],
             [
              0.1111111111111111,
              "#46039f"
             ],
             [
              0.2222222222222222,
              "#7201a8"
             ],
             [
              0.3333333333333333,
              "#9c179e"
             ],
             [
              0.4444444444444444,
              "#bd3786"
             ],
             [
              0.5555555555555556,
              "#d8576b"
             ],
             [
              0.6666666666666666,
              "#ed7953"
             ],
             [
              0.7777777777777778,
              "#fb9f3a"
             ],
             [
              0.8888888888888888,
              "#fdca26"
             ],
             [
              1,
              "#f0f921"
             ]
            ],
            "type": "contour"
           }
          ],
          "contourcarpet": [
           {
            "colorbar": {
             "outlinewidth": 0,
             "ticks": ""
            },
            "type": "contourcarpet"
           }
          ],
          "heatmap": [
           {
            "colorbar": {
             "outlinewidth": 0,
             "ticks": ""
            },
            "colorscale": [
             [
              0,
              "#0d0887"
             ],
             [
              0.1111111111111111,
              "#46039f"
             ],
             [
              0.2222222222222222,
              "#7201a8"
             ],
             [
              0.3333333333333333,
              "#9c179e"
             ],
             [
              0.4444444444444444,
              "#bd3786"
             ],
             [
              0.5555555555555556,
              "#d8576b"
             ],
             [
              0.6666666666666666,
              "#ed7953"
             ],
             [
              0.7777777777777778,
              "#fb9f3a"
             ],
             [
              0.8888888888888888,
              "#fdca26"
             ],
             [
              1,
              "#f0f921"
             ]
            ],
            "type": "heatmap"
           }
          ],
          "heatmapgl": [
           {
            "colorbar": {
             "outlinewidth": 0,
             "ticks": ""
            },
            "colorscale": [
             [
              0,
              "#0d0887"
             ],
             [
              0.1111111111111111,
              "#46039f"
             ],
             [
              0.2222222222222222,
              "#7201a8"
             ],
             [
              0.3333333333333333,
              "#9c179e"
             ],
             [
              0.4444444444444444,
              "#bd3786"
             ],
             [
              0.5555555555555556,
              "#d8576b"
             ],
             [
              0.6666666666666666,
              "#ed7953"
             ],
             [
              0.7777777777777778,
              "#fb9f3a"
             ],
             [
              0.8888888888888888,
              "#fdca26"
             ],
             [
              1,
              "#f0f921"
             ]
            ],
            "type": "heatmapgl"
           }
          ],
          "histogram": [
           {
            "marker": {
             "pattern": {
              "fillmode": "overlay",
              "size": 10,
              "solidity": 0.2
             }
            },
            "type": "histogram"
           }
          ],
          "histogram2d": [
           {
            "colorbar": {
             "outlinewidth": 0,
             "ticks": ""
            },
            "colorscale": [
             [
              0,
              "#0d0887"
             ],
             [
              0.1111111111111111,
              "#46039f"
             ],
             [
              0.2222222222222222,
              "#7201a8"
             ],
             [
              0.3333333333333333,
              "#9c179e"
             ],
             [
              0.4444444444444444,
              "#bd3786"
             ],
             [
              0.5555555555555556,
              "#d8576b"
             ],
             [
              0.6666666666666666,
              "#ed7953"
             ],
             [
              0.7777777777777778,
              "#fb9f3a"
             ],
             [
              0.8888888888888888,
              "#fdca26"
             ],
             [
              1,
              "#f0f921"
             ]
            ],
            "type": "histogram2d"
           }
          ],
          "histogram2dcontour": [
           {
            "colorbar": {
             "outlinewidth": 0,
             "ticks": ""
            },
            "colorscale": [
             [
              0,
              "#0d0887"
             ],
             [
              0.1111111111111111,
              "#46039f"
             ],
             [
              0.2222222222222222,
              "#7201a8"
             ],
             [
              0.3333333333333333,
              "#9c179e"
             ],
             [
              0.4444444444444444,
              "#bd3786"
             ],
             [
              0.5555555555555556,
              "#d8576b"
             ],
             [
              0.6666666666666666,
              "#ed7953"
             ],
             [
              0.7777777777777778,
              "#fb9f3a"
             ],
             [
              0.8888888888888888,
              "#fdca26"
             ],
             [
              1,
              "#f0f921"
             ]
            ],
            "type": "histogram2dcontour"
           }
          ],
          "mesh3d": [
           {
            "colorbar": {
             "outlinewidth": 0,
             "ticks": ""
            },
            "type": "mesh3d"
           }
          ],
          "parcoords": [
           {
            "line": {
             "colorbar": {
              "outlinewidth": 0,
              "ticks": ""
             }
            },
            "type": "parcoords"
           }
          ],
          "pie": [
           {
            "automargin": true,
            "type": "pie"
           }
          ],
          "scatter": [
           {
            "marker": {
             "colorbar": {
              "outlinewidth": 0,
              "ticks": ""
             }
            },
            "type": "scatter"
           }
          ],
          "scatter3d": [
           {
            "line": {
             "colorbar": {
              "outlinewidth": 0,
              "ticks": ""
             }
            },
            "marker": {
             "colorbar": {
              "outlinewidth": 0,
              "ticks": ""
             }
            },
            "type": "scatter3d"
           }
          ],
          "scattercarpet": [
           {
            "marker": {
             "colorbar": {
              "outlinewidth": 0,
              "ticks": ""
             }
            },
            "type": "scattercarpet"
           }
          ],
          "scattergeo": [
           {
            "marker": {
             "colorbar": {
              "outlinewidth": 0,
              "ticks": ""
             }
            },
            "type": "scattergeo"
           }
          ],
          "scattergl": [
           {
            "marker": {
             "colorbar": {
              "outlinewidth": 0,
              "ticks": ""
             }
            },
            "type": "scattergl"
           }
          ],
          "scattermapbox": [
           {
            "marker": {
             "colorbar": {
              "outlinewidth": 0,
              "ticks": ""
             }
            },
            "type": "scattermapbox"
           }
          ],
          "scatterpolar": [
           {
            "marker": {
             "colorbar": {
              "outlinewidth": 0,
              "ticks": ""
             }
            },
            "type": "scatterpolar"
           }
          ],
          "scatterpolargl": [
           {
            "marker": {
             "colorbar": {
              "outlinewidth": 0,
              "ticks": ""
             }
            },
            "type": "scatterpolargl"
           }
          ],
          "scatterternary": [
           {
            "marker": {
             "colorbar": {
              "outlinewidth": 0,
              "ticks": ""
             }
            },
            "type": "scatterternary"
           }
          ],
          "surface": [
           {
            "colorbar": {
             "outlinewidth": 0,
             "ticks": ""
            },
            "colorscale": [
             [
              0,
              "#0d0887"
             ],
             [
              0.1111111111111111,
              "#46039f"
             ],
             [
              0.2222222222222222,
              "#7201a8"
             ],
             [
              0.3333333333333333,
              "#9c179e"
             ],
             [
              0.4444444444444444,
              "#bd3786"
             ],
             [
              0.5555555555555556,
              "#d8576b"
             ],
             [
              0.6666666666666666,
              "#ed7953"
             ],
             [
              0.7777777777777778,
              "#fb9f3a"
             ],
             [
              0.8888888888888888,
              "#fdca26"
             ],
             [
              1,
              "#f0f921"
             ]
            ],
            "type": "surface"
           }
          ],
          "table": [
           {
            "cells": {
             "fill": {
              "color": "#EBF0F8"
             },
             "line": {
              "color": "white"
             }
            },
            "header": {
             "fill": {
              "color": "#C8D4E3"
             },
             "line": {
              "color": "white"
             }
            },
            "type": "table"
           }
          ]
         },
         "layout": {
          "annotationdefaults": {
           "arrowcolor": "#2a3f5f",
           "arrowhead": 0,
           "arrowwidth": 1
          },
          "autotypenumbers": "strict",
          "coloraxis": {
           "colorbar": {
            "outlinewidth": 0,
            "ticks": ""
           }
          },
          "colorscale": {
           "diverging": [
            [
             0,
             "#8e0152"
            ],
            [
             0.1,
             "#c51b7d"
            ],
            [
             0.2,
             "#de77ae"
            ],
            [
             0.3,
             "#f1b6da"
            ],
            [
             0.4,
             "#fde0ef"
            ],
            [
             0.5,
             "#f7f7f7"
            ],
            [
             0.6,
             "#e6f5d0"
            ],
            [
             0.7,
             "#b8e186"
            ],
            [
             0.8,
             "#7fbc41"
            ],
            [
             0.9,
             "#4d9221"
            ],
            [
             1,
             "#276419"
            ]
           ],
           "sequential": [
            [
             0,
             "#0d0887"
            ],
            [
             0.1111111111111111,
             "#46039f"
            ],
            [
             0.2222222222222222,
             "#7201a8"
            ],
            [
             0.3333333333333333,
             "#9c179e"
            ],
            [
             0.4444444444444444,
             "#bd3786"
            ],
            [
             0.5555555555555556,
             "#d8576b"
            ],
            [
             0.6666666666666666,
             "#ed7953"
            ],
            [
             0.7777777777777778,
             "#fb9f3a"
            ],
            [
             0.8888888888888888,
             "#fdca26"
            ],
            [
             1,
             "#f0f921"
            ]
           ],
           "sequentialminus": [
            [
             0,
             "#0d0887"
            ],
            [
             0.1111111111111111,
             "#46039f"
            ],
            [
             0.2222222222222222,
             "#7201a8"
            ],
            [
             0.3333333333333333,
             "#9c179e"
            ],
            [
             0.4444444444444444,
             "#bd3786"
            ],
            [
             0.5555555555555556,
             "#d8576b"
            ],
            [
             0.6666666666666666,
             "#ed7953"
            ],
            [
             0.7777777777777778,
             "#fb9f3a"
            ],
            [
             0.8888888888888888,
             "#fdca26"
            ],
            [
             1,
             "#f0f921"
            ]
           ]
          },
          "colorway": [
           "#636efa",
           "#EF553B",
           "#00cc96",
           "#ab63fa",
           "#FFA15A",
           "#19d3f3",
           "#FF6692",
           "#B6E880",
           "#FF97FF",
           "#FECB52"
          ],
          "font": {
           "color": "#2a3f5f"
          },
          "geo": {
           "bgcolor": "white",
           "lakecolor": "white",
           "landcolor": "#E5ECF6",
           "showlakes": true,
           "showland": true,
           "subunitcolor": "white"
          },
          "hoverlabel": {
           "align": "left"
          },
          "hovermode": "closest",
          "mapbox": {
           "style": "light"
          },
          "paper_bgcolor": "white",
          "plot_bgcolor": "#E5ECF6",
          "polar": {
           "angularaxis": {
            "gridcolor": "white",
            "linecolor": "white",
            "ticks": ""
           },
           "bgcolor": "#E5ECF6",
           "radialaxis": {
            "gridcolor": "white",
            "linecolor": "white",
            "ticks": ""
           }
          },
          "scene": {
           "xaxis": {
            "backgroundcolor": "#E5ECF6",
            "gridcolor": "white",
            "gridwidth": 2,
            "linecolor": "white",
            "showbackground": true,
            "ticks": "",
            "zerolinecolor": "white"
           },
           "yaxis": {
            "backgroundcolor": "#E5ECF6",
            "gridcolor": "white",
            "gridwidth": 2,
            "linecolor": "white",
            "showbackground": true,
            "ticks": "",
            "zerolinecolor": "white"
           },
           "zaxis": {
            "backgroundcolor": "#E5ECF6",
            "gridcolor": "white",
            "gridwidth": 2,
            "linecolor": "white",
            "showbackground": true,
            "ticks": "",
            "zerolinecolor": "white"
           }
          },
          "shapedefaults": {
           "line": {
            "color": "#2a3f5f"
           }
          },
          "ternary": {
           "aaxis": {
            "gridcolor": "white",
            "linecolor": "white",
            "ticks": ""
           },
           "baxis": {
            "gridcolor": "white",
            "linecolor": "white",
            "ticks": ""
           },
           "bgcolor": "#E5ECF6",
           "caxis": {
            "gridcolor": "white",
            "linecolor": "white",
            "ticks": ""
           }
          },
          "title": {
           "x": 0.05
          },
          "xaxis": {
           "automargin": true,
           "gridcolor": "white",
           "linecolor": "white",
           "ticks": "",
           "title": {
            "standoff": 15
           },
           "zerolinecolor": "white",
           "zerolinewidth": 2
          },
          "yaxis": {
           "automargin": true,
           "gridcolor": "white",
           "linecolor": "white",
           "ticks": "",
           "title": {
            "standoff": 15
           },
           "zerolinecolor": "white",
           "zerolinewidth": 2
          }
         }
        },
        "title": {
         "text": "Global Spread of Coronavirus",
         "x": 0.5
        }
       }
      },
      "text/html": [
       "<div>                            <div id=\"f6355189-0a51-415a-a805-e7394cba53d1\" class=\"plotly-graph-div\" style=\"height:525px; width:100%;\"></div>            <script type=\"text/javascript\">                require([\"plotly\"], function(Plotly) {                    window.PLOTLYENV=window.PLOTLYENV || {};                                    if (document.getElementById(\"f6355189-0a51-415a-a805-e7394cba53d1\")) {                    Plotly.newPlot(                        \"f6355189-0a51-415a-a805-e7394cba53d1\",                        [{\"colorscale\":[[0.0,\"rgb(255, 242, 3)\"],[0.1111111111111111,\"rgb(3, 252, 211)\"],[0.2222222222222222,\"rgb(244,109,67)\"],[0.3333333333333333,\"rgb(253,174,97)\"],[0.4444444444444444,\"rgb(254,224,144)\"],[0.5555555555555556,\"rgb(224,243,248)\"],[0.6666666666666666,\"rgb(171,217,233)\"],[0.7777777777777778,\"rgb(116,173,209)\"],[0.8888888888888888,\"rgb(69,117,180)\"],[1.0,\"rgb(49,54,149)\"]],\"locationmode\":\"country names\",\"locations\":[\"Zimbabwe\",\"Cameroon\",\"Jordan\",\"Kazakhstan\",\"San Marino\",\"Djibouti\",\"Pakistan\",\"Uzbekistan\",\"Kenya\",\"Bahrain\",\"Kosovo\",\"Malaysia\",\"Samoa\",\"Nigeria\",\"Norway\",\"Kuwait\",\"Bahamas\",\"Tanzania\",\"Denmark\",\"Kyrgyzstan\",\"Dominica\",\"Tajikistan\",\"Bangladesh\",\"Sao Tome and Principe\",\"Iraq\",\"Serbia\",\"Ireland\",\"Isle of Man\",\"Taiwan\",\"Ecuador\",\"Senegal\",\"Belarus\",\"Israel\",\"Uruguay\",\"Italy\",\"Saudi Arabia\",\"Cambodia\",\"Dominican Republic\",\"Barbados\",\"Jamaica\",\"Japan\",\"Saint Vincent and the Grenadines\",\"Turks and Caicos Islands\",\"Laos\",\"Saint Helena\",\"Lower middle income\",\"Timor\",\"Curacao\",\"Rwanda\",\"Asia\",\"Cuba\",\"Luxembourg\",\"Macao\",\"Russia\",\"Venezuela\",\"Madagascar\",\"Aruba\",\"Cape Verde\",\"Malawi\",\"Romania\",\"Africa\",\"Togo\",\"Low income\",\"Lithuania\",\"Vanuatu\",\"Australia\",\"Latvia\",\"Democratic Republic of Congo\",\"Saint Pierre and Miquelon\",\"Azerbaijan\",\"Lebanon\",\"Lesotho\",\"Saint Lucia\",\"Thailand\",\"Czechia\",\"Liberia\",\"Austria\",\"Libya\",\"Saint Kitts and Nevis\",\"Liechtenstein\",\"Canada\",\"Cyprus\",\"Vatican\",\"Belgium\",\"Iran\",\"Egypt\",\"South Korea\",\"Botswana\",\"Germany\",\"Ghana\",\"South America\",\"Suriname\",\"Europe\",\"United Kingdom\",\"Bosnia and Herzegovina\",\"Gibraltar\",\"Greece\",\"South Africa\",\"Greenland\",\"Bulgaria\",\"Ethiopia\",\"Bonaire Sint Eustatius and Saba\",\"Grenada\",\"Somalia\",\"European Union\",\"Georgia\",\"Guatemala\",\"Gambia\",\"Falkland Islands\",\"Fiji\",\"Sri Lanka\",\"British Virgin Islands\",\"Sudan\",\"Faeroe Islands\",\"Finland\",\"France\",\"Spain\",\"United Arab Emirates\",\"French Polynesia\",\"Brazil\",\"North Macedonia\",\"Gabon\",\"South Sudan\",\"Brunei\",\"Ukraine\",\"Afghanistan\",\"Bolivia\",\"Zambia\",\"Hong Kong\",\"Eritrea\",\"Hungary\",\"Singapore\",\"Benin\",\"Equatorial Guinea\",\"Iceland\",\"India\",\"Sierra Leone\",\"Belize\",\"North America\",\"Burundi\",\"Indonesia\",\"International\",\"Seychelles\",\"Syria\",\"El Salvador\",\"Upper middle income\",\"Switzerland\",\"Honduras\",\"Sweden\",\"Bermuda\",\"Eswatini\",\"Solomon Islands\",\"Guinea\",\"Estonia\",\"Oman\",\"North Korea\",\"United States\",\"Guinea-Bissau\",\"Bhutan\",\"Oceania\",\"Guyana\",\"Slovenia\",\"Burkina Faso\",\"Uganda\",\"Haiti\",\"Slovakia\",\"High income\",\"Croatia\",\"Kiribati\",\"Colombia\",\"Montenegro\",\"Cook Islands\",\"Turkey\",\"Costa Rica\",\"Central African Republic\",\"Tonga\",\"Vietnam\",\"Mauritius\",\"China\",\"Congo\",\"Yemen\",\"Mali\",\"Angola\",\"Tunisia\",\"Portugal\",\"Panama\",\"Netherlands\",\"Poland\",\"Wallis and Futuna\",\"Chad\",\"Myanmar\",\"Micronesia (country)\",\"Malta\",\"Mauritania\",\"Nepal\",\"Marshall Islands\",\"World\",\"Argentina\",\"Namibia\",\"Papua New Guinea\",\"Montserrat\",\"Algeria\",\"Chile\",\"Peru\",\"Comoros\",\"New Caledonia\",\"Paraguay\",\"New Zealand\",\"Qatar\",\"Anguilla\",\"Philippines\",\"Monaco\",\"Palestine\",\"Cayman Islands\",\"Trinidad and Tobago\",\"Armenia\",\"Albania\",\"Maldives\",\"Mongolia\",\"Mozambique\",\"Cote d'Ivoire\",\"Morocco\",\"Andorra\",\"Moldova\",\"Palau\",\"Mexico\",\"Antigua and Barbuda\",\"Niger\",\"Nicaragua\"],\"marker\":{\"line\":{\"color\":\"black\",\"width\":0.3}},\"type\":\"choropleth\",\"z\":[256539.0,120967.0,1720778.0,1466760.0,20130.0,15690.0,1562307.0,243537.0,337950.0,666939.0,266686.0,4735547.0,15405.0,262520.0,1458092.0,656393.0,36905.0,38205.0,3252087.0,204671.0,14852.0,17786.0,2008870.0,6120.0,2451178.0,2206806.0,1650791.0,37794.0,4888840.0,975234.0,87752.0,994037.0,4614404.0,973420.0,21499531.0,811958.0,137236.0,634866.0,97638.0,148048.0,15656681.0,9404.0,6338.0,212356.0,4.0,94172880.0,23074.0,45209.0,132357.0,172392955.0,1109433.0,284931.0,791.0,18607284.0,540222.0,66599.0,42478.0,62253.0,87711.0,3157372.0,12293555.0,38285.0,1890433.0,1200477.0,11746.0,9810496.0,881020.0,92456.0,3131.0,805103.0,1197041.0,34206.0,28341.0,4622088.0,4012244.0,7578.0,4861952.0,505956.0,6492.0,18907.0,4141368.0,571994.0,29.0,4453483.0,7475173.0,515645.0,21418036.0,325824.0,31535340.0,168350.0,62912318.0,80988.0,220576474.0,23509727.0,390650.0,20034.0,4577675.0,4004555.0,11971.0,1226419.0,492753.0,10999.0,18895.0,27020.0,161970539.0,1710749.0,1072590.0,12238.0,1867.0,67925.0,668012.0,7131.0,63128.0,34658.0,1238998.0,34253699.0,13294139.0,1004751.0,76139.0,34148131.0,334562.0,48592.0,17823.0,215283.0,5305063.0,189045.0,1081206.0,331925.0,1417022.0,10136.0,2005399.0,1794069.0,27316.0,16892.0,203518.0,44268381.0,7741.0,67630.0,110306088.0,48002.0,6282774.0,721.0,45692.0,56700.0,190818.0,138725024.0,3994397.0,447365.0,2551996.0,17556.0,73327.0,21544.0,37470.0,593571.0,397231.0,1.0,92927104.0,8452.0,60663.0,11849200.0,70457.0,1103466.0,21128.0,169396.0,32703.0,2580748.0,355514536.0,1200742.0,3430.0,6286392.0,269719.0,6209.0,16295817.0,1057695.0,14803.0,13405.0,11365784.0,248720.0,921382.0,24837.0,11903.0,31245.0,102636.0,1139241.0,5376433.0,960300.0,8373241.0,6119257.0,761.0,7444.0,614389.0,7139.0,113534.0,62708.0,993032.0,1250.0,590331311.0,9633732.0,169253.0,44820.0,1097.0,269141.0,4380148.0,4027614.0,8351.0,72362.0,712907.0,1691261.0,419370.0,3620.0,3831941.0,14277.0,697447.0,29653.0,175098.0,428648.0,321804.0,184591.0,966423.0,229887.0,86151.0,1263453.0,45899.0,551862.0,5308.0,6925668.0,8820.0,9132.0,14872.0]}],                        {\"geo\":{\"projection\":{\"type\":\"equirectangular\"},\"showcoastlines\":false,\"showframe\":false},\"template\":{\"data\":{\"bar\":[{\"error_x\":{\"color\":\"#2a3f5f\"},\"error_y\":{\"color\":\"#2a3f5f\"},\"marker\":{\"line\":{\"color\":\"#E5ECF6\",\"width\":0.5},\"pattern\":{\"fillmode\":\"overlay\",\"size\":10,\"solidity\":0.2}},\"type\":\"bar\"}],\"barpolar\":[{\"marker\":{\"line\":{\"color\":\"#E5ECF6\",\"width\":0.5},\"pattern\":{\"fillmode\":\"overlay\",\"size\":10,\"solidity\":0.2}},\"type\":\"barpolar\"}],\"carpet\":[{\"aaxis\":{\"endlinecolor\":\"#2a3f5f\",\"gridcolor\":\"white\",\"linecolor\":\"white\",\"minorgridcolor\":\"white\",\"startlinecolor\":\"#2a3f5f\"},\"baxis\":{\"endlinecolor\":\"#2a3f5f\",\"gridcolor\":\"white\",\"linecolor\":\"white\",\"minorgridcolor\":\"white\",\"startlinecolor\":\"#2a3f5f\"},\"type\":\"carpet\"}],\"choropleth\":[{\"colorbar\":{\"outlinewidth\":0,\"ticks\":\"\"},\"type\":\"choropleth\"}],\"contour\":[{\"colorbar\":{\"outlinewidth\":0,\"ticks\":\"\"},\"colorscale\":[[0.0,\"#0d0887\"],[0.1111111111111111,\"#46039f\"],[0.2222222222222222,\"#7201a8\"],[0.3333333333333333,\"#9c179e\"],[0.4444444444444444,\"#bd3786\"],[0.5555555555555556,\"#d8576b\"],[0.6666666666666666,\"#ed7953\"],[0.7777777777777778,\"#fb9f3a\"],[0.8888888888888888,\"#fdca26\"],[1.0,\"#f0f921\"]],\"type\":\"contour\"}],\"contourcarpet\":[{\"colorbar\":{\"outlinewidth\":0,\"ticks\":\"\"},\"type\":\"contourcarpet\"}],\"heatmap\":[{\"colorbar\":{\"outlinewidth\":0,\"ticks\":\"\"},\"colorscale\":[[0.0,\"#0d0887\"],[0.1111111111111111,\"#46039f\"],[0.2222222222222222,\"#7201a8\"],[0.3333333333333333,\"#9c179e\"],[0.4444444444444444,\"#bd3786\"],[0.5555555555555556,\"#d8576b\"],[0.6666666666666666,\"#ed7953\"],[0.7777777777777778,\"#fb9f3a\"],[0.8888888888888888,\"#fdca26\"],[1.0,\"#f0f921\"]],\"type\":\"heatmap\"}],\"heatmapgl\":[{\"colorbar\":{\"outlinewidth\":0,\"ticks\":\"\"},\"colorscale\":[[0.0,\"#0d0887\"],[0.1111111111111111,\"#46039f\"],[0.2222222222222222,\"#7201a8\"],[0.3333333333333333,\"#9c179e\"],[0.4444444444444444,\"#bd3786\"],[0.5555555555555556,\"#d8576b\"],[0.6666666666666666,\"#ed7953\"],[0.7777777777777778,\"#fb9f3a\"],[0.8888888888888888,\"#fdca26\"],[1.0,\"#f0f921\"]],\"type\":\"heatmapgl\"}],\"histogram\":[{\"marker\":{\"pattern\":{\"fillmode\":\"overlay\",\"size\":10,\"solidity\":0.2}},\"type\":\"histogram\"}],\"histogram2d\":[{\"colorbar\":{\"outlinewidth\":0,\"ticks\":\"\"},\"colorscale\":[[0.0,\"#0d0887\"],[0.1111111111111111,\"#46039f\"],[0.2222222222222222,\"#7201a8\"],[0.3333333333333333,\"#9c179e\"],[0.4444444444444444,\"#bd3786\"],[0.5555555555555556,\"#d8576b\"],[0.6666666666666666,\"#ed7953\"],[0.7777777777777778,\"#fb9f3a\"],[0.8888888888888888,\"#fdca26\"],[1.0,\"#f0f921\"]],\"type\":\"histogram2d\"}],\"histogram2dcontour\":[{\"colorbar\":{\"outlinewidth\":0,\"ticks\":\"\"},\"colorscale\":[[0.0,\"#0d0887\"],[0.1111111111111111,\"#46039f\"],[0.2222222222222222,\"#7201a8\"],[0.3333333333333333,\"#9c179e\"],[0.4444444444444444,\"#bd3786\"],[0.5555555555555556,\"#d8576b\"],[0.6666666666666666,\"#ed7953\"],[0.7777777777777778,\"#fb9f3a\"],[0.8888888888888888,\"#fdca26\"],[1.0,\"#f0f921\"]],\"type\":\"histogram2dcontour\"}],\"mesh3d\":[{\"colorbar\":{\"outlinewidth\":0,\"ticks\":\"\"},\"type\":\"mesh3d\"}],\"parcoords\":[{\"line\":{\"colorbar\":{\"outlinewidth\":0,\"ticks\":\"\"}},\"type\":\"parcoords\"}],\"pie\":[{\"automargin\":true,\"type\":\"pie\"}],\"scatter\":[{\"marker\":{\"colorbar\":{\"outlinewidth\":0,\"ticks\":\"\"}},\"type\":\"scatter\"}],\"scatter3d\":[{\"line\":{\"colorbar\":{\"outlinewidth\":0,\"ticks\":\"\"}},\"marker\":{\"colorbar\":{\"outlinewidth\":0,\"ticks\":\"\"}},\"type\":\"scatter3d\"}],\"scattercarpet\":[{\"marker\":{\"colorbar\":{\"outlinewidth\":0,\"ticks\":\"\"}},\"type\":\"scattercarpet\"}],\"scattergeo\":[{\"marker\":{\"colorbar\":{\"outlinewidth\":0,\"ticks\":\"\"}},\"type\":\"scattergeo\"}],\"scattergl\":[{\"marker\":{\"colorbar\":{\"outlinewidth\":0,\"ticks\":\"\"}},\"type\":\"scattergl\"}],\"scattermapbox\":[{\"marker\":{\"colorbar\":{\"outlinewidth\":0,\"ticks\":\"\"}},\"type\":\"scattermapbox\"}],\"scatterpolar\":[{\"marker\":{\"colorbar\":{\"outlinewidth\":0,\"ticks\":\"\"}},\"type\":\"scatterpolar\"}],\"scatterpolargl\":[{\"marker\":{\"colorbar\":{\"outlinewidth\":0,\"ticks\":\"\"}},\"type\":\"scatterpolargl\"}],\"scatterternary\":[{\"marker\":{\"colorbar\":{\"outlinewidth\":0,\"ticks\":\"\"}},\"type\":\"scatterternary\"}],\"surface\":[{\"colorbar\":{\"outlinewidth\":0,\"ticks\":\"\"},\"colorscale\":[[0.0,\"#0d0887\"],[0.1111111111111111,\"#46039f\"],[0.2222222222222222,\"#7201a8\"],[0.3333333333333333,\"#9c179e\"],[0.4444444444444444,\"#bd3786\"],[0.5555555555555556,\"#d8576b\"],[0.6666666666666666,\"#ed7953\"],[0.7777777777777778,\"#fb9f3a\"],[0.8888888888888888,\"#fdca26\"],[1.0,\"#f0f921\"]],\"type\":\"surface\"}],\"table\":[{\"cells\":{\"fill\":{\"color\":\"#EBF0F8\"},\"line\":{\"color\":\"white\"}},\"header\":{\"fill\":{\"color\":\"#C8D4E3\"},\"line\":{\"color\":\"white\"}},\"type\":\"table\"}]},\"layout\":{\"annotationdefaults\":{\"arrowcolor\":\"#2a3f5f\",\"arrowhead\":0,\"arrowwidth\":1},\"autotypenumbers\":\"strict\",\"coloraxis\":{\"colorbar\":{\"outlinewidth\":0,\"ticks\":\"\"}},\"colorscale\":{\"diverging\":[[0,\"#8e0152\"],[0.1,\"#c51b7d\"],[0.2,\"#de77ae\"],[0.3,\"#f1b6da\"],[0.4,\"#fde0ef\"],[0.5,\"#f7f7f7\"],[0.6,\"#e6f5d0\"],[0.7,\"#b8e186\"],[0.8,\"#7fbc41\"],[0.9,\"#4d9221\"],[1,\"#276419\"]],\"sequential\":[[0.0,\"#0d0887\"],[0.1111111111111111,\"#46039f\"],[0.2222222222222222,\"#7201a8\"],[0.3333333333333333,\"#9c179e\"],[0.4444444444444444,\"#bd3786\"],[0.5555555555555556,\"#d8576b\"],[0.6666666666666666,\"#ed7953\"],[0.7777777777777778,\"#fb9f3a\"],[0.8888888888888888,\"#fdca26\"],[1.0,\"#f0f921\"]],\"sequentialminus\":[[0.0,\"#0d0887\"],[0.1111111111111111,\"#46039f\"],[0.2222222222222222,\"#7201a8\"],[0.3333333333333333,\"#9c179e\"],[0.4444444444444444,\"#bd3786\"],[0.5555555555555556,\"#d8576b\"],[0.6666666666666666,\"#ed7953\"],[0.7777777777777778,\"#fb9f3a\"],[0.8888888888888888,\"#fdca26\"],[1.0,\"#f0f921\"]]},\"colorway\":[\"#636efa\",\"#EF553B\",\"#00cc96\",\"#ab63fa\",\"#FFA15A\",\"#19d3f3\",\"#FF6692\",\"#B6E880\",\"#FF97FF\",\"#FECB52\"],\"font\":{\"color\":\"#2a3f5f\"},\"geo\":{\"bgcolor\":\"white\",\"lakecolor\":\"white\",\"landcolor\":\"#E5ECF6\",\"showlakes\":true,\"showland\":true,\"subunitcolor\":\"white\"},\"hoverlabel\":{\"align\":\"left\"},\"hovermode\":\"closest\",\"mapbox\":{\"style\":\"light\"},\"paper_bgcolor\":\"white\",\"plot_bgcolor\":\"#E5ECF6\",\"polar\":{\"angularaxis\":{\"gridcolor\":\"white\",\"linecolor\":\"white\",\"ticks\":\"\"},\"bgcolor\":\"#E5ECF6\",\"radialaxis\":{\"gridcolor\":\"white\",\"linecolor\":\"white\",\"ticks\":\"\"}},\"scene\":{\"xaxis\":{\"backgroundcolor\":\"#E5ECF6\",\"gridcolor\":\"white\",\"gridwidth\":2,\"linecolor\":\"white\",\"showbackground\":true,\"ticks\":\"\",\"zerolinecolor\":\"white\"},\"yaxis\":{\"backgroundcolor\":\"#E5ECF6\",\"gridcolor\":\"white\",\"gridwidth\":2,\"linecolor\":\"white\",\"showbackground\":true,\"ticks\":\"\",\"zerolinecolor\":\"white\"},\"zaxis\":{\"backgroundcolor\":\"#E5ECF6\",\"gridcolor\":\"white\",\"gridwidth\":2,\"linecolor\":\"white\",\"showbackground\":true,\"ticks\":\"\",\"zerolinecolor\":\"white\"}},\"shapedefaults\":{\"line\":{\"color\":\"#2a3f5f\"}},\"ternary\":{\"aaxis\":{\"gridcolor\":\"white\",\"linecolor\":\"white\",\"ticks\":\"\"},\"baxis\":{\"gridcolor\":\"white\",\"linecolor\":\"white\",\"ticks\":\"\"},\"bgcolor\":\"#E5ECF6\",\"caxis\":{\"gridcolor\":\"white\",\"linecolor\":\"white\",\"ticks\":\"\"}},\"title\":{\"x\":0.05},\"xaxis\":{\"automargin\":true,\"gridcolor\":\"white\",\"linecolor\":\"white\",\"ticks\":\"\",\"title\":{\"standoff\":15},\"zerolinecolor\":\"white\",\"zerolinewidth\":2},\"yaxis\":{\"automargin\":true,\"gridcolor\":\"white\",\"linecolor\":\"white\",\"ticks\":\"\",\"title\":{\"standoff\":15},\"zerolinecolor\":\"white\",\"zerolinewidth\":2}}},\"title\":{\"text\":\"Global Spread of Coronavirus\",\"x\":0.5}},                        {\"responsive\": true}                    ).then(function(){\n",
       "                            \n",
       "var gd = document.getElementById('f6355189-0a51-415a-a805-e7394cba53d1');\n",
       "var x = new MutationObserver(function (mutations, observer) {{\n",
       "        var display = window.getComputedStyle(gd).display;\n",
       "        if (!display || display === 'none') {{\n",
       "            console.log([gd, 'removed!']);\n",
       "            Plotly.purge(gd);\n",
       "            observer.disconnect();\n",
       "        }}\n",
       "}});\n",
       "\n",
       "// Listen for the removal of the full notebook cells\n",
       "var notebookContainer = gd.closest('#notebook-container');\n",
       "if (notebookContainer) {{\n",
       "    x.observe(notebookContainer, {childList: true});\n",
       "}}\n",
       "\n",
       "// Listen for the clearing of the current output cell\n",
       "var outputEl = gd.closest('.output');\n",
       "if (outputEl) {{\n",
       "    x.observe(outputEl, {childList: true});\n",
       "}}\n",
       "\n",
       "                        })                };                });            </script>        </div>"
      ]
     },
     "metadata": {},
     "output_type": "display_data"
    }
   ],
   "source": [
    "fig.update_layout(\n",
    "    title_text = 'Global Spread of Coronavirus',\n",
    "    title_x = 0.5,\n",
    "    geo=dict(\n",
    "        showframe = False,\n",
    "        showcoastlines = False,\n",
    "    ))\n",
    "    \n",
    "fig.show()"
   ]
  },
  {
   "cell_type": "code",
   "execution_count": null,
   "id": "0fdbcc9f",
   "metadata": {},
   "outputs": [],
   "source": []
  },
  {
   "cell_type": "code",
   "execution_count": null,
   "id": "4f3843f5",
   "metadata": {},
   "outputs": [],
   "source": []
  },
  {
   "cell_type": "code",
   "execution_count": null,
   "id": "e2133e18",
   "metadata": {},
   "outputs": [],
   "source": []
  },
  {
   "cell_type": "code",
   "execution_count": null,
   "id": "f35dc0f2",
   "metadata": {},
   "outputs": [],
   "source": []
  },
  {
   "cell_type": "code",
   "execution_count": null,
   "id": "426e6cd1",
   "metadata": {},
   "outputs": [],
   "source": []
  },
  {
   "cell_type": "code",
   "execution_count": null,
   "id": "2f552cc0",
   "metadata": {},
   "outputs": [],
   "source": []
  }
 ],
 "metadata": {
  "kernelspec": {
   "display_name": "Python 3 (ipykernel)",
   "language": "python",
   "name": "python3"
  },
  "language_info": {
   "codemirror_mode": {
    "name": "ipython",
    "version": 3
   },
   "file_extension": ".py",
   "mimetype": "text/x-python",
   "name": "python",
   "nbconvert_exporter": "python",
   "pygments_lexer": "ipython3",
   "version": "3.9.0"
  }
 },
 "nbformat": 4,
 "nbformat_minor": 5
}
